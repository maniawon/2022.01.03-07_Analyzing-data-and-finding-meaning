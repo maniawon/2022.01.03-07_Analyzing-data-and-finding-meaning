{
 "cells": [
  {
   "cell_type": "markdown",
   "id": "45c8f0d1",
   "metadata": {
    "id": "45c8f0d1"
   },
   "source": [
    "# chapter 4. 개별 변수 분석하기 숫자형 변수 - 시각화"
   ]
  },
  {
   "cell_type": "code",
   "execution_count": 8,
   "id": "9909d512",
   "metadata": {},
   "outputs": [],
   "source": [
    "import numpy as np\n",
    "import pandas as pd\n",
    "import matplotlib.pyplot as plt"
   ]
  },
  {
   "cell_type": "markdown",
   "id": "c895baa8",
   "metadata": {
    "id": "c895baa8"
   },
   "source": [
    "## 1) 히스토그램  \n",
    "plt.hist(1차원데이터, bins = 구간의 개수, edgecolor = 'gray')  \n",
    "- 히스토그램은 저장하면 → **튜플**로 나온다"
   ]
  },
  {
   "cell_type": "markdown",
   "id": "9ae176cc",
   "metadata": {
    "id": "9ae176cc"
   },
   "source": [
    "① 아래와 같은 총 21개의 값이 있다고 할 때, 히스토그램을 그리시오.\n",
    "* 1, 2, 3, 3, 4, 4, 4, 5, 6, 7, 8, 9, 10, 11, 15, 17, 17, 19, 20, 25, 30  \n",
    "* 구간의 개수: 5, edgecolor: grey"
   ]
  },
  {
   "cell_type": "code",
   "execution_count": 4,
   "id": "b2cf3949",
   "metadata": {},
   "outputs": [
    {
     "data": {
      "image/png": "[encoded data removed]",
      "text/plain": [
       "<Figure size 432x288 with 1 Axes>"
      ]
     },
     "metadata": {
      "needs_background": "light"
     },
     "output_type": "display_data"
    }
   ],
   "source": [
    "a = [1, 2, 3, 3, 4, 4, 4, 5, 6, 7, 8, 9, 10, 11, 15, 17, 17, 19, 20, 25, 30]\n",
    "plt.hist(a, bins = 5, edgecolor = 'grey')\n",
    "plt.show()"
   ]
  },
  {
   "cell_type": "markdown",
   "id": "82f57ee9",
   "metadata": {
    "id": "82f57ee9"
   },
   "source": [
    "② 아래와 같은 총 15개의 값이 있다고 할 때, 히스토그램을 그리시오.\n",
    "* 3, 4, 5, 5, 6, 6, 6, 8, 8, 9, 11, 12, 12, 13, 14\n",
    "* 구간의 개수: 4 , color: green, edgecolor: orange"
   ]
  },
  {
   "cell_type": "code",
   "execution_count": 7,
   "id": "aba5d014",
   "metadata": {},
   "outputs": [
    {
     "data": {
      "image/png": "[encoded data removed]",
      "text/plain": [
       "<Figure size 432x288 with 1 Axes>"
      ]
     },
     "metadata": {
      "needs_background": "light"
     },
     "output_type": "display_data"
    }
   ],
   "source": [
    "a = [3, 4, 5, 5, 6, 6, 6, 8, 8, 9, 11, 12, 12, 13, 14]\n",
    "plt.hist(a, bins = 4, color = 'green', edgecolor = 'orange')\n",
    "plt.show()"
   ]
  },
  {
   "cell_type": "markdown",
   "id": "352b2603",
   "metadata": {
    "id": "352b2603"
   },
   "source": [
    "③ 고객의 나이 정보 age가 아래와 같을 때, 히스토그램을 그리고 결과를 저장하여 구간과 빈도수를 확인하시오.\n",
    "*  age = [19, 20, 23, 46, 21, 25, 26, 25, 28, 31, 37, 24, 28, 34, 38, 33, 32, 29, 27, 24]\n",
    "* 구간의 개수: 6, edgecolor: grey"
   ]
  },
  {
   "cell_type": "code",
   "execution_count": 32,
   "id": "eae8475a",
   "metadata": {
    "scrolled": true
   },
   "outputs": [
    {
     "name": "stdout",
     "output_type": "stream",
     "text": [
      "(array([4., 6., 5., 2., 2., 1.]), array([19. , 23.5, 28. , 32.5, 37. , 41.5, 46. ]), <BarContainer object of 6 artists>)\n",
      "빈도수 :  [4. 6. 5. 2. 2. 1.]\n",
      "구간값 :  [19.  23.5 28.  32.5 37.  41.5 46. ]\n"
     ]
    },
    {
     "data": {
      "image/png": "[encoded data removed]",
      "text/plain": [
       "<Figure size 432x288 with 1 Axes>"
      ]
     },
     "metadata": {
      "needs_background": "light"
     },
     "output_type": "display_data"
    }
   ],
   "source": [
    "age = [19, 20, 23, 46, 21, 25, 26, 25, 28, 31, 37, 24, 28, 34, 38, 33, 32, 29, 27, 24]\n",
    "\n",
    "hist1 = plt.hist(age, bins = 6, edgecolor = 'grey')\n",
    "\n",
    "print(hist1)\n",
    "\n",
    "print('빈도수 : ', hist[0])\n",
    "print('구간값 : ', hist1[1])"
   ]
  },
  {
   "cell_type": "markdown",
   "id": "7e258ec6",
   "metadata": {
    "id": "7e258ec6"
   },
   "source": [
    "④ 몸무게 데이터 weight가 아래와 같을 때, 히스토그램을 그리고 결과를 저장하여 구간과 빈도수를 확인하시오.\n",
    "* weight = [68, 81, 64, 56, 78, 74, 61, 77, 66, 68, 59, 71, 80, 59, 67, 81, 69, 73, 69, 74, 70, 65]\n",
    "* 구간의 개수: 10, color: pink, edgecolor: white"
   ]
  },
  {
   "cell_type": "code",
   "execution_count": 33,
   "id": "88267037",
   "metadata": {},
   "outputs": [
    {
     "name": "stdout",
     "output_type": "stream",
     "text": [
      "(array([1., 2., 1., 2., 4., 3., 2., 2., 2., 3.]), array([56. , 58.5, 61. , 63.5, 66. , 68.5, 71. , 73.5, 76. , 78.5, 81. ]), <BarContainer object of 10 artists>)\n",
      "빈도수 :  [1. 2. 1. 2. 4. 3. 2. 2. 2. 3.]\n",
      "구간값 :  [56.  58.5 61.  63.5 66.  68.5 71.  73.5 76.  78.5 81. ]\n"
     ]
    },
    {
     "data": {
      "image/png": "[encoded data removed]",
      "text/plain": [
       "<Figure size 432x288 with 1 Axes>"
      ]
     },
     "metadata": {
      "needs_background": "light"
     },
     "output_type": "display_data"
    }
   ],
   "source": [
    "weight = [68, 81, 64, 56, 78, 74, 61, 77, 66, 68, 59, 71, 80, 59, 67, 81, 69, 73, 69, 74, 70, 65]\n",
    "\n",
    "hist1 = plt.hist(weight, bins = 10, color = 'pink', edgecolor = 'white')\n",
    "print(hist1)\n",
    "\n",
    "print('빈도수 : ', hist1[0])\n",
    "print('구간값 : ', hist1[1])"
   ]
  },
  {
   "cell_type": "markdown",
   "id": "a54a8fdd",
   "metadata": {
    "id": "a54a8fdd"
   },
   "source": [
    "## 2) 밀도함수(Kernel Density Estimation) 그래프  \n",
    "Series.plot(kind = 'kde')  \n",
    "DataFrame.plot(kind = 'kde')"
   ]
  },
  {
   "cell_type": "markdown",
   "id": "f2a520f6",
   "metadata": {
    "id": "f2a520f6"
   },
   "source": [
    "① 고객의 나이 정보 age가 아래와 같을 때, 밀도함수 그래프를 그리시오.\n",
    "*  age = [19, 20, 23, 46, 21, 25, 26, 25, 28, 31, 37, 24, 28, 34, 38, 33, 32, 29, 27, 24]"
   ]
  },
  {
   "cell_type": "code",
   "execution_count": 35,
   "id": "d9e096f3",
   "metadata": {},
   "outputs": [
    {
     "data": {
      "image/png": "[encoded data removed]",
      "text/plain": [
       "<Figure size 432x288 with 1 Axes>"
      ]
     },
     "metadata": {
      "needs_background": "light"
     },
     "output_type": "display_data"
    }
   ],
   "source": [
    "age = [19, 20, 23, 46, 21, 25, 26, 25, 28, 31, 37, 24, 28, 34, 38, 33, 32, 29, 27, 24]\n",
    "age = pd.Series(age)\n",
    "age.plot(kind = 'kde')\n",
    "plt.show()"
   ]
  },
  {
   "cell_type": "markdown",
   "id": "df62af60",
   "metadata": {
    "id": "df62af60"
   },
   "source": [
    "② 몸무게 데이터 weight가 아래와 같을 때, 밀도함수 그래프를 그리시오.\n",
    "* weight = [68, 81, 64, 56, 78, 74, 61, 77, 66, 68, 59, 71, 80, 59, 67, 81, 69, 73, 69, 74, 70, 65]\n",
    "* color: green"
   ]
  },
  {
   "cell_type": "code",
   "execution_count": 38,
   "id": "eba76ccf",
   "metadata": {
    "colab": {
     "base_uri": "https://localhost:8080/",
     "height": 268
    },
    "executionInfo": {
     "elapsed": 17,
     "status": "ok",
     "timestamp": 1640852501931,
     "user": {
      "displayName": "한기영",
      "photoUrl": "https://lh3.googleusercontent.com/a/default-user=s64",
      "userId": "13049187003176135487"
     },
     "user_tz": -540
    },
    "id": "eba76ccf",
    "outputId": "9221207c-0190-4a11-aa1b-c66456300dae"
   },
   "outputs": [
    {
     "data": {
      "image/png": "[encoded data removed]",
      "text/plain": [
       "<Figure size 432x288 with 1 Axes>"
      ]
     },
     "metadata": {
      "needs_background": "light"
     },
     "output_type": "display_data"
    }
   ],
   "source": [
    "weight = [68, 81, 64, 56, 78, 74, 61, 77, 66, 68, 59, 71, 80, 59, 67, 81, 69, 73, 69, 74, 70, 65]\n",
    "weight = pd.Series(weight)\n",
    "weight.plot(kind = 'kde', color = 'green')\n",
    "plt.show()"
   ]
  },
  {
   "cell_type": "markdown",
   "id": "4f012064",
   "metadata": {
    "id": "4f012064"
   },
   "source": [
    "## 3) Boxplot  \n",
    "plt.boxplot(데이터, vert = True)  \n",
    "- 디폴트값 : vert = True  ← 세로 boxplot  \n",
    "- vert = False ← 가로 boxplot  \n",
    "\n",
    "- boxplot은 저장하면 → **딕셔너리**로 나온다 : type(boxplot저장한변수)  \n",
    "\n",
    "\n",
    "- 각 key에 해당되는 정보를 얻기 위해서는 .get_ydata() 메서드를 이용  \n",
    "     - boxplot저장한변수['whiskers'][0].get_ydata() : 아래 수염의 max, min  \n",
    "     - boxplot저장한변수['whiskers'][1].get_ydata() : 위 수염의 min, max"
   ]
  },
  {
   "cell_type": "markdown",
   "id": "5d18f2f0",
   "metadata": {
    "id": "5d18f2f0"
   },
   "source": [
    "① 고객의 나이 정보 age가 아래와 같을 때, 박스플롯을 세로로 그리고 결과를 저장, 아래/위 수염의 min, max를 구해 봅시다.  \n",
    "*  age = [19, 20, 23, 46, 21, 25, 26, 25, 28, 31, 37, 24, 28, 34, 38, 33, 32, 29, 27, 24]"
   ]
  },
  {
   "cell_type": "code",
   "execution_count": 50,
   "id": "b229c7bd",
   "metadata": {},
   "outputs": [
    {
     "name": "stdout",
     "output_type": "stream",
     "text": [
      "[<matplotlib.lines.Line2D object at 0x00000175EA4DC730>, <matplotlib.lines.Line2D object at 0x00000175EA4DCA90>]\n",
      "[24. 19.]\n",
      "[32.25 38.  ]\n"
     ]
    },
    {
     "data": {
      "image/png": "[encoded data removed]",
      "text/plain": [
       "<Figure size 432x288 with 1 Axes>"
      ]
     },
     "metadata": {
      "needs_background": "light"
     },
     "output_type": "display_data"
    }
   ],
   "source": [
    "age = [19, 20, 23, 46, 21, 25, 26, 25, 28, 31, 37, 24, 28, 34, 38, 33, 32, 29, 27, 24]\n",
    "box1 = plt.boxplot(age, vert = True)\n",
    "\n",
    "print(box1['whiskers'])\n",
    "print(box1['whiskers'][0].get_ydata()) # 아래 수염의 max, min\n",
    "print(box1['whiskers'][1].get_ydata()) # 위 수염의 min, max"
   ]
  },
  {
   "cell_type": "markdown",
   "id": "b36e8a63",
   "metadata": {
    "id": "b36e8a63"
   },
   "source": [
    "② 몸무게 데이터 weight가 아래와 같을 때, 박스플롯을 가로로 그리고 결과를 저장, 아래/위 수염의 min, max를 구해 봅시다.  \n",
    "* weight = [68, 81, 64, 56, 78, 74, 61, 77, 66, 68, 59, 71, 80, 59, 67, 81, 69, 73, 69, 74, 70, 65]"
   ]
  },
  {
   "cell_type": "code",
   "execution_count": 81,
   "id": "eb02c6cc",
   "metadata": {},
   "outputs": [
    {
     "name": "stdout",
     "output_type": "stream",
     "text": [
      "[65.25 56.  ]\n",
      "[74. 81.]\n"
     ]
    },
    {
     "data": {
      "image/png": "[encoded data removed]",
      "text/plain": [
       "<Figure size 432x288 with 1 Axes>"
      ]
     },
     "metadata": {
      "needs_background": "light"
     },
     "output_type": "display_data"
    }
   ],
   "source": [
    "weight = [68, 81, 64, 56, 78, 74, 61, 77, 66, 68, 59, 71, 80, 59, 67, 81, 69, 73, 69, 74, 70, 65]\n",
    "box = plt.boxplot(weight, vert = False)\n",
    "\n",
    "print(box['whiskers'][0].get_xdata())  # 왼쪽 수염의 max, min\n",
    "print(box['whiskers'][1].get_xdata())  # 오른쪽 수염의 min, max"
   ]
  },
  {
   "cell_type": "markdown",
   "id": "e1517bc0",
   "metadata": {
    "id": "e1517bc0"
   },
   "source": [
    "## 4) 바이올린 플롯"
   ]
  },
  {
   "cell_type": "markdown",
   "id": "2ae7b591",
   "metadata": {
    "id": "2ae7b591"
   },
   "source": [
    "① 고객의 나이 정보 age가 아래와 같을 때, 바이올린 플롯을 가로로 그리고 평균값을 텍스트로 나타내시오.\n",
    "*  age = [19, 20, 23, 46, 21, 25, 26, 25, 28, 31, 37, 24, 28, 34, 38, 33, 32, 29, 27, 24]"
   ]
  },
  {
   "cell_type": "markdown",
   "id": "e4b6e3de",
   "metadata": {},
   "source": [
    "- plt.text(x, y, s='내가 넣을 text')"
   ]
  },
  {
   "cell_type": "code",
   "execution_count": 103,
   "id": "6f8fc718",
   "metadata": {},
   "outputs": [
    {
     "data": {
      "image/png": "[encoded data removed]",
      "text/plain": [
       "<Figure size 432x288 with 1 Axes>"
      ]
     },
     "metadata": {
      "needs_background": "light"
     },
     "output_type": "display_data"
    }
   ],
   "source": [
    "import numpy as np\n",
    "\n",
    "age = [19, 20, 23, 46, 21, 25, 26, 25, 28, 31, 37, 24, 28, 34, 38, 33, 32, 29, 27, 24]\n",
    "age_mean = np.mean(age) # 28.5\n",
    "\n",
    "plt.violinplot(age, vert = False, showmeans = True)\n",
    "plt.text(x=age_mean-1, y=0.85, s=28.5)\n",
    "plt.show()"
   ]
  },
  {
   "cell_type": "markdown",
   "id": "609b16a4",
   "metadata": {
    "id": "609b16a4"
   },
   "source": [
    "② 몸무게 데이터 weight가 아래와 같을 때, 바이올린 플롯을 세로로 그리고 평균값을 텍스트로 나타내시오.\n",
    "* weight = [68, 81, 64, 56, 78, 74, 61, 77, 66, 68, 59, 71, 80, 59, 67, 81, 69, 73, 69, 74, 70, 65]"
   ]
  },
  {
   "cell_type": "code",
   "execution_count": 109,
   "id": "c945ae8a",
   "metadata": {},
   "outputs": [
    {
     "data": {
      "image/png": "[encoded data removed]",
      "text/plain": [
       "<Figure size 432x288 with 1 Axes>"
      ]
     },
     "metadata": {
      "needs_background": "light"
     },
     "output_type": "display_data"
    }
   ],
   "source": [
    "weight = [68, 81, 64, 56, 78, 74, 61, 77, 66, 68, 59, 71, 80, 59, 67, 81, 69, 73, 69, 74, 70, 65]\n",
    "weight_mean = np.mean(weight)\n",
    "\n",
    "plt.violinplot(weight, vert = False, showmeans = True)\n",
    "plt.text(x=weight_mean-1, y=0.85, s=weight_mean)\n",
    "plt.show()"
   ]
  },
  {
   "cell_type": "markdown",
   "id": "ac29a1fd",
   "metadata": {
    "id": "ac29a1fd"
   },
   "source": [
    "## 5) 그래프 비교하기"
   ]
  },
  {
   "cell_type": "markdown",
   "id": "4ef7d7bb",
   "metadata": {
    "id": "4ef7d7bb"
   },
   "source": [
    "① 고객의 나이 정보 age의 값들을 활용하여 앞에서 다루었던 네 가지 그래프(히스토그램, 밀도 함수 그래프, 박스플롯, 바이올린 플롯)을 주어진 결과에 맞게 한꺼번에 그리고 비교해 봅시다.\n",
    "* age = [19,20,23,46,21,25,26,25,28,31,37,24,28,34,38,33,32,29,27,24]\n",
    "* 힌트: subplot() 사용"
   ]
  },
  {
   "cell_type": "code",
   "execution_count": null,
   "id": "7a7cf41f",
   "metadata": {},
   "outputs": [],
   "source": [
    "weight = pd.Series(weight)\n",
    "weight.plot(kind = 'kde', color = 'green')"
   ]
  },
  {
   "cell_type": "code",
   "execution_count": 124,
   "id": "41d15b7b",
   "metadata": {},
   "outputs": [
    {
     "data": {
      "image/png": "[encoded data removed]",
      "text/plain": [
       "<Figure size 432x288 with 4 Axes>"
      ]
     },
     "metadata": {
      "needs_background": "light"
     },
     "output_type": "display_data"
    }
   ],
   "source": [
    "age = [19,20,23,46,21,25,26,25,28,31,37,24,28,34,38,33,32,29,27,24]\n",
    "\n",
    "plt.subplot(2, 2, 1)\n",
    "plt.hist(age, edgecolor = 'grey')\n",
    "\n",
    "plt.subplot(2, 2, 2)\n",
    "plt.boxplot(age, vert = False)\n",
    "\n",
    "plt.subplot(2, 2, 3)\n",
    "age = pd.Series(age)\n",
    "age.plot(kind = 'kde')\n",
    "\n",
    "plt.subplot(2, 2, 4)\n",
    "plt.violinplot(age, vert = False, showmeans = True)\n",
    "\n",
    "plt.show()"
   ]
  },
  {
   "cell_type": "markdown",
   "id": "86e2e466",
   "metadata": {
    "id": "86e2e466"
   },
   "source": [
    "② 몸무게 데이터 weight를 활용하여 앞에서 다루었던 네 가지 그래프(히스토그램, 밀도 함수 그래프, 박스플롯, 바이올린 플롯)을 주어진 결과에 맞게 한꺼번에 그리고 비교해 봅시다.\n",
    "* weight = [68, 81, 64, 56, 78, 74, 61, 77, 66, 68, 59, 71, 80, 59, 67, 81, 69, 73, 69, 74, 70, 65]\n",
    "* 힌트: subplot() 사용"
   ]
  },
  {
   "cell_type": "code",
   "execution_count": 130,
   "id": "7cfc80fd",
   "metadata": {},
   "outputs": [
    {
     "data": {
      "image/png": "[encoded data removed]",
      "text/plain": [
       "<Figure size 432x288 with 4 Axes>"
      ]
     },
     "metadata": {
      "needs_background": "light"
     },
     "output_type": "display_data"
    }
   ],
   "source": [
    "weight = [68, 81, 64, 56, 78, 74, 61, 77, 66, 68, 59, 71, 80, 59, 67, 81, 69, 73, 69, 74, 70, 65]\n",
    "\n",
    "plt.subplot(2, 2, 1)\n",
    "plt.hist(weight, edgecolor = 'white')\n",
    "\n",
    "plt.subplot(2, 2, 2)\n",
    "plt.boxplot(weight, vert = True)\n",
    "\n",
    "plt.subplot(2, 2, 3)\n",
    "age = pd.Series(weight)\n",
    "age.plot(kind = 'kde')\n",
    "\n",
    "plt.subplot(2, 2, 4)\n",
    "weight_mean = np.mean(weight) # 69.54545454545455\n",
    "plt.violinplot(weight, vert = False, showmeans = True)\n",
    "plt.text(x=weight_mean-1, y=0.85, s=weight_mean)\n",
    "\n",
    "plt.show()"
   ]
  },
  {
   "cell_type": "markdown",
   "id": "551065fe",
   "metadata": {
    "id": "551065fe"
   },
   "source": [
    "## 6) 데이터 프레임의 숫자형 변수 시각화"
   ]
  },
  {
   "cell_type": "markdown",
   "id": "e0e4d4ad",
   "metadata": {
    "id": "e0e4d4ad"
   },
   "source": [
    "### ① Titanic\n",
    "\n",
    "* 데이터셋 : titanic3\n",
    "* 설명 : NaN 조치된 Titanic\n",
    "* url : https://bit.ly/3HaMAtZ"
   ]
  },
  {
   "cell_type": "markdown",
   "id": "b5c0833d",
   "metadata": {
    "id": "b5c0833d"
   },
   "source": [
    "(1) 데이터를 불러와서 상위 5개 행을 조회하시오."
   ]
  },
  {
   "cell_type": "code",
   "execution_count": 53,
   "id": "dde3be8f",
   "metadata": {},
   "outputs": [
    {
     "name": "stdout",
     "output_type": "stream",
     "text": [
      "   Survived  Pclass     Sex   Age  SibSp  Parch     Fare Embarked  AgeGroup  \\\n",
      "0         0       3    male  22.0      1      0   7.2500        S  Age21_30   \n",
      "1         1       1  female  38.0      1      0  71.2833        C  Age31_40   \n",
      "2         1       3  female  26.0      0      0   7.9250        S  Age21_30   \n",
      "3         1       1  female  35.0      1      0  53.1000        S  Age31_40   \n",
      "4         0       3    male  35.0      0      0   8.0500        S  Age31_40   \n",
      "\n",
      "   Family  Age_scale1  \n",
      "0       2    0.271174  \n",
      "1       2    0.472229  \n",
      "2       1    0.321438  \n",
      "3       2    0.434531  \n",
      "4       1    0.434531  \n"
     ]
    }
   ],
   "source": [
    "import pandas as pd\n",
    "path = 'https://bit.ly/3HaMAtZ'\n",
    "titanic3 = pd.read_csv(path)\n",
    "print(titanic3.head())"
   ]
  },
  {
   "cell_type": "markdown",
   "id": "ad040fa5",
   "metadata": {
    "id": "ad040fa5"
   },
   "source": [
    "(2) 나이(Age)의 분포를 확인하기 위한 히스토그램을 주어진 결과에 맞게 그리시오."
   ]
  },
  {
   "cell_type": "code",
   "execution_count": 131,
   "id": "25ab9144",
   "metadata": {},
   "outputs": [
    {
     "data": {
      "image/png": "[encoded data removed]",
      "text/plain": [
       "<Figure size 432x288 with 1 Axes>"
      ]
     },
     "metadata": {
      "needs_background": "light"
     },
     "output_type": "display_data"
    }
   ],
   "source": [
    "import matplotlib.pyplot as plt\n",
    "\n",
    "age = titanic3['Age']\n",
    "plt.hist(age, bins = 10, edgecolor = 'grey', label = 'Age')\n",
    "plt.legend()\n",
    "plt.show()"
   ]
  },
  {
   "cell_type": "markdown",
   "id": "2ce1a167",
   "metadata": {
    "id": "2ce1a167"
   },
   "source": [
    "(3) 나이(Age)의 분포를 확인하기 위한 네 가지 그래프(히스토그램, 밀도 함수 그래프, 박스플롯, 바이올린 플롯)을 주어진 결과에 맞게 한꺼번에 그리고 비교해 봅시다."
   ]
  },
  {
   "cell_type": "code",
   "execution_count": 134,
   "id": "497455bb",
   "metadata": {},
   "outputs": [
    {
     "name": "stdout",
     "output_type": "stream",
     "text": [
      "count    891.000000\n",
      "mean      29.754770\n",
      "std       13.277378\n",
      "min        0.420000\n",
      "25%       21.770000\n",
      "50%       30.000000\n",
      "75%       35.900000\n",
      "max       80.000000\n",
      "Name: Age, dtype: float64\n"
     ]
    },
    {
     "data": {
      "image/png": "[encoded data removed]",
      "text/plain": [
       "<Figure size 720x432 with 4 Axes>"
      ]
     },
     "metadata": {
      "needs_background": "light"
     },
     "output_type": "display_data"
    }
   ],
   "source": [
    "age = titanic3['Age']\n",
    "print(age.describe())\n",
    "\n",
    "plt.figure(figsize = (10, 6))\n",
    "\n",
    "plt.subplot(2, 2, 1)\n",
    "plt.hist(age, bins = 16, edgecolor = 'grey')\n",
    "\n",
    "plt.subplot(2, 2, 2)\n",
    "plt.boxplot(age, vert = False)\n",
    "\n",
    "plt.subplot(2, 2, 3)\n",
    "age.plot(kind = 'kde')\n",
    "\n",
    "plt.subplot(2, 2, 4)\n",
    "plt.violinplot(age, vert = False, showmeans=  True)\n",
    "\n",
    "plt.show()"
   ]
  },
  {
   "cell_type": "markdown",
   "id": "ZrAaoil-EUjY",
   "metadata": {
    "id": "ZrAaoil-EUjY"
   },
   "source": [
    "(4) 위 분포로 부터 알수 있는 것은 무엇인가요?"
   ]
  },
  {
   "cell_type": "markdown",
   "id": "313c6f15",
   "metadata": {},
   "source": [
    "- 20~ 40세 탑승객이 주를 이룸\n",
    "- 0~ 5세 많음  \n",
    "→ 젊은 부부 + 어린자녀가 있는 가족 단위 탑승객이 많을 거승로 예상됨  "
   ]
  },
  {
   "cell_type": "markdown",
   "id": "pvLzN604Em4f",
   "metadata": {
    "id": "pvLzN604Em4f"
   },
   "source": [
    "더 살펴보고 싶은 부분은 무엇인가요?"
   ]
  },
  {
   "cell_type": "markdown",
   "id": "W2sCFxPpEpql",
   "metadata": {
    "id": "W2sCFxPpEpql"
   },
   "source": [
    "1) 나이에 따라서, 생존여부에 차이가 있을까?  \n",
    "2) 나이를 나이대로 변환할 필요가 있을까?  \n",
    "3) 나이가 탑승지역과 관련이 있을까? (쉐부르 프랑스 부촌, 여기서도 젊은 사람들이 많이 탔을까?)"
   ]
  },
  {
   "cell_type": "markdown",
   "id": "41a7abf7",
   "metadata": {
    "id": "41a7abf7"
   },
   "source": [
    "### ② New York Air Quality\n",
    "\n",
    "* 데이터셋 : airquality\n",
    "* 설명 : 뉴욕 공기오염도\n",
    "* url : https://bit.ly/3qmthqZ"
   ]
  },
  {
   "cell_type": "markdown",
   "id": "c6763b01",
   "metadata": {
    "id": "c6763b01"
   },
   "source": [
    "(1) 데이터를 불러와서 상위 5개 행을 조회하시오."
   ]
  },
  {
   "cell_type": "code",
   "execution_count": 67,
   "id": "12e7b86e",
   "metadata": {},
   "outputs": [
    {
     "name": "stdout",
     "output_type": "stream",
     "text": [
      "   Ozone  Solar.R  Wind  Temp        Date\n",
      "0     41    190.0   7.4    67  1973-05-01\n",
      "1     36    118.0   8.0    72  1973-05-02\n",
      "2     12    149.0  12.6    74  1973-05-03\n",
      "3     18    313.0  11.5    62  1973-05-04\n",
      "4     19      NaN  14.3    56  1973-05-05\n"
     ]
    }
   ],
   "source": [
    "path = 'https://bit.ly/3qmthqZ'\n",
    "airquality = pd.read_csv(path)\n",
    "print(airquality.head())"
   ]
  },
  {
   "cell_type": "markdown",
   "id": "2c7172a6",
   "metadata": {
    "id": "2c7172a6"
   },
   "source": [
    "(2) 풍량(Wind)의 분포를 확인하기 위한 히스토그램을 주어진 결과에 맞게 그리시오.\n",
    "* color: skyblue\n",
    "* edge color: white"
   ]
  },
  {
   "cell_type": "code",
   "execution_count": 140,
   "id": "f0d289e0",
   "metadata": {},
   "outputs": [
    {
     "data": {
      "image/png": "[encoded data removed]",
      "text/plain": [
       "<Figure size 432x288 with 1 Axes>"
      ]
     },
     "metadata": {
      "needs_background": "light"
     },
     "output_type": "display_data"
    }
   ],
   "source": [
    "plt.hist(airquality['Wind'], \n",
    "         color = 'skyblue', edgecolor = 'white', label='Wind')\n",
    "plt.legend()\n",
    "plt.xlabel('Wind')\n",
    "plt.ylabel('Capacity')\n",
    "plt.show()"
   ]
  },
  {
   "cell_type": "markdown",
   "id": "d66d6e46",
   "metadata": {
    "id": "d66d6e46"
   },
   "source": [
    "(3) 풍량(wind)의 분포를 확인하기 위한 네 가지 그래프(히스토그램, 밀도 함수 그래프, 박스플롯, 바이올린 플롯)을 주어진 결과에 맞게 한꺼번에 그리고 비교해 봅시다."
   ]
  },
  {
   "cell_type": "code",
   "execution_count": 145,
   "id": "6ecf0531",
   "metadata": {},
   "outputs": [
    {
     "data": {
      "image/png": "[encoded data removed]",
      "text/plain": [
       "<Figure size 720x432 with 4 Axes>"
      ]
     },
     "metadata": {
      "needs_background": "light"
     },
     "output_type": "display_data"
    }
   ],
   "source": [
    "wind = airquality['Wind']\n",
    "\n",
    "plt.figure(figsize = (10, 6))\n",
    "\n",
    "plt.subplot(2, 2, 1)\n",
    "plt.hist(wind, bins = 10, edgecolor = 'grey')\n",
    "\n",
    "plt.subplot(2, 2, 2)\n",
    "plt.boxplot(wind, vert = True)\n",
    "\n",
    "plt.subplot(2, 2, 3)\n",
    "wind.plot(kind = 'kde')\n",
    "\n",
    "plt.subplot(2, 2, 4)\n",
    "plt.violinplot(wind, vert = False, showmeans = True)\n",
    "wind_mean = wind.mean() # 9.95751633986928\n",
    "plt.text(x=10, y=0.8, s=wind_mean)\n",
    "\n",
    "plt.show()"
   ]
  }
 ],
 "metadata": {
  "colab": {
   "collapsed_sections": [],
   "name": "04과 [실습] 숫자형 변수 - 시각화.ipynb",
   "provenance": [],
   "toc_visible": true
  },
  "kernelspec": {
   "display_name": "Python 3",
   "language": "python",
   "name": "python3"
  },
  "language_info": {
   "codemirror_mode": {
    "name": "ipython",
    "version": 3
   },
   "file_extension": ".py",
   "mimetype": "text/x-python",
   "name": "python",
   "nbconvert_exporter": "python",
   "pygments_lexer": "ipython3",
   "version": "3.8.8"
  }
 },
 "nbformat": 4,
 "nbformat_minor": 5
}
