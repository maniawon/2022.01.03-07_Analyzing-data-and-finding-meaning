{
 "cells": [
  {
   "cell_type": "markdown",
   "id": "0c01bd36",
   "metadata": {},
   "source": [
    "# chapter 3. 개별 변수 분석하기 숫자형 변수 - 기초통계량"
   ]
  },
  {
   "cell_type": "code",
   "execution_count": 1,
   "id": "19f0edb0",
   "metadata": {},
   "outputs": [],
   "source": [
    "import numpy as np\n",
    "import pandas as pd"
   ]
  },
  {
   "cell_type": "markdown",
   "id": "3f1eb70e",
   "metadata": {},
   "source": [
    "## 1) 기초통계량: 자료의 대푯값"
   ]
  },
  {
   "cell_type": "markdown",
   "id": "277c219c",
   "metadata": {},
   "source": [
    "① 아래와 같은 총 21개의 값이 있다고 할 때, numpy를 이용하여 다음의 값들을 구하시오.  \n",
    "- 1, 2, 3, 3, 4, 4, 4, 5, 6, 7, 8, 9, 10, 11, 15, 17, 17, 19, 20, 25, 30  \n",
    "(1) 중앙값  \n",
    "(2) 최빈값  \n",
    "(3) 4분위수"
   ]
  },
  {
   "cell_type": "code",
   "execution_count": 2,
   "id": "9d25d2fb",
   "metadata": {},
   "outputs": [
    {
     "name": "stdout",
     "output_type": "stream",
     "text": [
      "8.0\n",
      "0    4\n",
      "dtype: int64\n",
      "[ 1.  4.  8. 17. 30.]\n"
     ]
    }
   ],
   "source": [
    "a = [1, 2, 3, 3, 4, 4, 4, 5, 6, 7, 8, 9, 10, \n",
    "    11, 15, 17, 17, 19, 20, 25, 30]\n",
    "\n",
    "# (1) 중앙값\n",
    "print(np.median(a))\n",
    "\n",
    "# (2) 최빈값\n",
    "a_mode = pd.Series(a)\n",
    "print(a_mode.mode())\n",
    "\n",
    "# (3) 4분위수\n",
    "print(np.percentile(a, [0, 25, 50, 75, 100]))"
   ]
  },
  {
   "cell_type": "markdown",
   "id": "3f810edc",
   "metadata": {},
   "source": [
    "② 아래와 같은 총 15개의 값이 있다고 할 때, numpy를 이용하여 다음의 값들을 구하시오.    \n",
    "- 3, 4, 5, 5, 6, 6, 6, 8, 8, 9, 11, 12, 12, 13, 14    \n",
    "(1) 중앙값  \n",
    "(2) 최빈값  \n",
    "(3) 4분위수"
   ]
  },
  {
   "cell_type": "code",
   "execution_count": 3,
   "id": "aff97b21",
   "metadata": {},
   "outputs": [
    {
     "name": "stdout",
     "output_type": "stream",
     "text": [
      "8.0\n",
      "0    6\n",
      "dtype: int64\n",
      "[ 3.   5.5  8.  11.5 14. ]\n"
     ]
    }
   ],
   "source": [
    "list1 = [3, 4, 5, 5, 6, 6, 6, 8, 8, 9,\n",
    "        11, 12, 12, 13, 14]\n",
    "\n",
    "# (1) 중앙값\n",
    "print(np.median(list1))\n",
    "\n",
    "# (2) 최빈값\n",
    "list1_mode = pd.Series(list1)\n",
    "print(list1_mode.mode())\n",
    "\n",
    "# (3) 4분위수\n",
    "print(np.percentile(list1, [0, 25, 50, 75, 100]))"
   ]
  },
  {
   "cell_type": "markdown",
   "id": "c0d1903f",
   "metadata": {},
   "source": [
    "## 2) 숫자형 변수"
   ]
  },
  {
   "cell_type": "markdown",
   "id": "52cf6673",
   "metadata": {},
   "source": [
    "① 아래와 같은 총 21개의 값이 있다고 할 때, 이 값들을 시리즈로 변환하고 describe 함수를 이용하여 기초 통계량을 구하시오.  \n",
    "- 1, 2, 3, 3, 4, 4, 4, 5, 6, 7, 8, 9, 10, 11, 15, 17, 17, 19, 20, 25, 30"
   ]
  },
  {
   "cell_type": "code",
   "execution_count": 4,
   "id": "76da3425",
   "metadata": {},
   "outputs": [
    {
     "name": "stdout",
     "output_type": "stream",
     "text": [
      "count    21.000000\n",
      "mean     10.476190\n",
      "std       8.158548\n",
      "min       1.000000\n",
      "25%       4.000000\n",
      "50%       8.000000\n",
      "75%      17.000000\n",
      "max      30.000000\n",
      "dtype: float64\n"
     ]
    }
   ],
   "source": [
    "a = [1, 2, 3, 3, 4, 4, 4, 5, 6, 7, 8, 9, 10,\n",
    "    11, 15, 17, 17, 19, 20, 25, 30]\n",
    "s = pd.Series(a)\n",
    "print(s.describe())"
   ]
  },
  {
   "cell_type": "markdown",
   "id": "9d412961",
   "metadata": {},
   "source": [
    "## 3) 데이터 프레임의 숫자형 변수"
   ]
  },
  {
   "cell_type": "markdown",
   "id": "21784ade",
   "metadata": {},
   "source": [
    "① Titanic  \n",
    "- 데이터셋 : titanic0  \n",
    "- 설명 : NaN 포함된 Titanic  \n",
    "- url : https://bit.ly/3FsgwkJ (https://bit.ly/3FsgwkJ)"
   ]
  },
  {
   "cell_type": "markdown",
   "id": "dbfd6853",
   "metadata": {},
   "source": [
    "(1) 데이터를 불러오시오."
   ]
  },
  {
   "cell_type": "code",
   "execution_count": 5,
   "id": "e00246c1",
   "metadata": {},
   "outputs": [
    {
     "name": "stdout",
     "output_type": "stream",
     "text": [
      "   PassengerId  Survived  Pclass  \\\n",
      "0            1         0       3   \n",
      "1            2         1       1   \n",
      "2            3         1       3   \n",
      "3            4         1       1   \n",
      "4            5         0       3   \n",
      "\n",
      "                                                Name     Sex   Age  SibSp  \\\n",
      "0                            Braund, Mr. Owen Harris    male  22.0      1   \n",
      "1  Cumings, Mrs. John Bradley (Florence Briggs Th...  female  38.0      1   \n",
      "2                             Heikkinen, Miss. Laina  female  26.0      0   \n",
      "3       Futrelle, Mrs. Jacques Heath (Lily May Peel)  female  35.0      1   \n",
      "4                           Allen, Mr. William Henry    male  35.0      0   \n",
      "\n",
      "   Parch            Ticket     Fare Cabin Embarked  \n",
      "0      0         A/5 21171   7.2500   NaN        S  \n",
      "1      0          PC 17599  71.2833   C85        C  \n",
      "2      0  STON/O2. 3101282   7.9250   NaN        S  \n",
      "3      0            113803  53.1000  C123        S  \n",
      "4      0            373450   8.0500   NaN        S  \n"
     ]
    }
   ],
   "source": [
    "path = 'https://bit.ly/3FsgwkJ'\n",
    "titanic = pd.read_csv(path)\n",
    "print(titanic.head())"
   ]
  },
  {
   "cell_type": "markdown",
   "id": "ee83d36a",
   "metadata": {},
   "source": [
    "(2) 데이터의 기본 정보를 조회하시오. (.info())"
   ]
  },
  {
   "cell_type": "code",
   "execution_count": 7,
   "id": "fa661597",
   "metadata": {},
   "outputs": [
    {
     "name": "stdout",
     "output_type": "stream",
     "text": [
      "<class 'pandas.core.frame.DataFrame'>\n",
      "RangeIndex: 891 entries, 0 to 890\n",
      "Data columns (total 12 columns):\n",
      " #   Column       Non-Null Count  Dtype  \n",
      "---  ------       --------------  -----  \n",
      " 0   PassengerId  891 non-null    int64  \n",
      " 1   Survived     891 non-null    int64  \n",
      " 2   Pclass       891 non-null    int64  \n",
      " 3   Name         891 non-null    object \n",
      " 4   Sex          891 non-null    object \n",
      " 5   Age          714 non-null    float64\n",
      " 6   SibSp        891 non-null    int64  \n",
      " 7   Parch        891 non-null    int64  \n",
      " 8   Ticket       891 non-null    object \n",
      " 9   Fare         891 non-null    float64\n",
      " 10  Cabin        204 non-null    object \n",
      " 11  Embarked     889 non-null    object \n",
      "dtypes: float64(2), int64(5), object(5)\n",
      "memory usage: 83.7+ KB\n",
      "None\n"
     ]
    }
   ],
   "source": [
    "print(titanic.info())"
   ]
  },
  {
   "cell_type": "markdown",
   "id": "d5c892b6",
   "metadata": {},
   "source": [
    "(3) 데이터의 변수들의 자료형을 출력하시오. (.dtypes)"
   ]
  },
  {
   "cell_type": "code",
   "execution_count": 8,
   "id": "37c35545",
   "metadata": {},
   "outputs": [
    {
     "name": "stdout",
     "output_type": "stream",
     "text": [
      "PassengerId      int64\n",
      "Survived         int64\n",
      "Pclass           int64\n",
      "Name            object\n",
      "Sex             object\n",
      "Age            float64\n",
      "SibSp            int64\n",
      "Parch            int64\n",
      "Ticket          object\n",
      "Fare           float64\n",
      "Cabin           object\n",
      "Embarked        object\n",
      "dtype: object\n"
     ]
    }
   ],
   "source": [
    "print(titanic.dtypes)"
   ]
  },
  {
   "cell_type": "markdown",
   "id": "f6d46ada",
   "metadata": {},
   "source": [
    "(4) 데이터에서 숫자 type 변수들에 대한 기초 통계량을 출력하시오. (.describe())"
   ]
  },
  {
   "cell_type": "code",
   "execution_count": 9,
   "id": "55b5f8e0",
   "metadata": {},
   "outputs": [
    {
     "name": "stdout",
     "output_type": "stream",
     "text": [
      "       PassengerId    Survived      Pclass         Age       SibSp  \\\n",
      "count   891.000000  891.000000  891.000000  714.000000  891.000000   \n",
      "mean    446.000000    0.383838    2.308642   29.699118    0.523008   \n",
      "std     257.353842    0.486592    0.836071   14.526497    1.102743   \n",
      "min       1.000000    0.000000    1.000000    0.420000    0.000000   \n",
      "25%     223.500000    0.000000    2.000000   20.125000    0.000000   \n",
      "50%     446.000000    0.000000    3.000000   28.000000    0.000000   \n",
      "75%     668.500000    1.000000    3.000000   38.000000    1.000000   \n",
      "max     891.000000    1.000000    3.000000   80.000000    8.000000   \n",
      "\n",
      "            Parch        Fare  \n",
      "count  891.000000  891.000000  \n",
      "mean     0.381594   32.204208  \n",
      "std      0.806057   49.693429  \n",
      "min      0.000000    0.000000  \n",
      "25%      0.000000    7.910400  \n",
      "50%      0.000000   14.454200  \n",
      "75%      0.000000   31.000000  \n",
      "max      6.000000  512.329200  \n"
     ]
    }
   ],
   "source": [
    "print(titanic.describe())"
   ]
  },
  {
   "cell_type": "markdown",
   "id": "bb60332c",
   "metadata": {},
   "source": [
    "(5) 'Age' 변수의 기초 통계량을 출력하시오."
   ]
  },
  {
   "cell_type": "code",
   "execution_count": 10,
   "id": "548e1e74",
   "metadata": {},
   "outputs": [
    {
     "name": "stdout",
     "output_type": "stream",
     "text": [
      "count    714.000000\n",
      "mean      29.699118\n",
      "std       14.526497\n",
      "min        0.420000\n",
      "25%       20.125000\n",
      "50%       28.000000\n",
      "75%       38.000000\n",
      "max       80.000000\n",
      "Name: Age, dtype: float64\n"
     ]
    }
   ],
   "source": [
    "print(titanic['Age'].describe())"
   ]
  },
  {
   "cell_type": "markdown",
   "id": "3f6f1a07",
   "metadata": {},
   "source": [
    "(6) 'Fare' 변수의 기초 통계량을 출력하시오."
   ]
  },
  {
   "cell_type": "code",
   "execution_count": 11,
   "id": "4b163e38",
   "metadata": {},
   "outputs": [
    {
     "name": "stdout",
     "output_type": "stream",
     "text": [
      "count    891.000000\n",
      "mean      32.204208\n",
      "std       49.693429\n",
      "min        0.000000\n",
      "25%        7.910400\n",
      "50%       14.454200\n",
      "75%       31.000000\n",
      "max      512.329200\n",
      "Name: Fare, dtype: float64\n"
     ]
    }
   ],
   "source": [
    "print(titanic['Fare'].describe())"
   ]
  },
  {
   "cell_type": "markdown",
   "id": "44caed08",
   "metadata": {},
   "source": [
    "(7) 'Age' 변수의 중앙값과 평균을 출력하시오."
   ]
  },
  {
   "cell_type": "code",
   "execution_count": 12,
   "id": "78f5f130",
   "metadata": {},
   "outputs": [
    {
     "name": "stdout",
     "output_type": "stream",
     "text": [
      "[numpy의 함수] ==================================================\n",
      "nan\n",
      "29.69911764705882\n"
     ]
    }
   ],
   "source": [
    "# numpy의 함수\n",
    "print('[numpy의 함수]', '='*50)\n",
    "print(np.median(titanic['Age']))\n",
    "print(np.mean(titanic['Age']))"
   ]
  },
  {
   "cell_type": "code",
   "execution_count": 13,
   "id": "9a8d781b",
   "metadata": {},
   "outputs": [
    {
     "name": "stdout",
     "output_type": "stream",
     "text": [
      "[pandas의 함수] ==================================================\n",
      "28.0\n",
      "29.69911764705882\n"
     ]
    }
   ],
   "source": [
    "# ★ pandas의 함수 ★ \n",
    "print('[pandas의 함수]', '='*50)\n",
    "print(titanic['Age'].median())\n",
    "print(titanic['Age'].mean())"
   ]
  },
  {
   "cell_type": "markdown",
   "id": "f9023911",
   "metadata": {},
   "source": [
    "(8) 'Fare' 변수의 중앙값과 평균을 출력하시오.m"
   ]
  },
  {
   "cell_type": "code",
   "execution_count": 15,
   "id": "883a27ef",
   "metadata": {},
   "outputs": [
    {
     "name": "stdout",
     "output_type": "stream",
     "text": [
      "14.4542\n",
      "32.2042079685746\n"
     ]
    }
   ],
   "source": [
    "print(titanic['Fare'].median())\n",
    "print(titanic['Fare'].mean())"
   ]
  },
  {
   "cell_type": "markdown",
   "id": "bc8d8610",
   "metadata": {},
   "source": [
    "② New York Air Quality  \n",
    "- 데이터셋 : airquality  \n",
    "- 설명 : 뉴욕 공기오염도  \n",
    "- url : https://bit.ly/3qmthqZ (https://bit.ly/3qmthqZ)"
   ]
  },
  {
   "cell_type": "markdown",
   "id": "5e4b0f76",
   "metadata": {},
   "source": [
    "(1) 데이터를 불러오시오."
   ]
  },
  {
   "cell_type": "code",
   "execution_count": 16,
   "id": "a61e0779",
   "metadata": {},
   "outputs": [
    {
     "name": "stdout",
     "output_type": "stream",
     "text": [
      "   Ozone  Solar.R  Wind  Temp        Date\n",
      "0     41    190.0   7.4    67  1973-05-01\n",
      "1     36    118.0   8.0    72  1973-05-02\n",
      "2     12    149.0  12.6    74  1973-05-03\n",
      "3     18    313.0  11.5    62  1973-05-04\n",
      "4     19      NaN  14.3    56  1973-05-05\n"
     ]
    }
   ],
   "source": [
    "path = 'https://bit.ly/3qmthqZ'\n",
    "air = pd.read_csv(path)\n",
    "print(air.head())"
   ]
  },
  {
   "cell_type": "markdown",
   "id": "d95ab722",
   "metadata": {},
   "source": [
    "(2) 데이터의 기본 정보를 조회하시오."
   ]
  },
  {
   "cell_type": "code",
   "execution_count": 17,
   "id": "4e915c59",
   "metadata": {},
   "outputs": [
    {
     "name": "stdout",
     "output_type": "stream",
     "text": [
      "<class 'pandas.core.frame.DataFrame'>\n",
      "RangeIndex: 153 entries, 0 to 152\n",
      "Data columns (total 5 columns):\n",
      " #   Column   Non-Null Count  Dtype  \n",
      "---  ------   --------------  -----  \n",
      " 0   Ozone    153 non-null    int64  \n",
      " 1   Solar.R  146 non-null    float64\n",
      " 2   Wind     153 non-null    float64\n",
      " 3   Temp     153 non-null    int64  \n",
      " 4   Date     153 non-null    object \n",
      "dtypes: float64(2), int64(2), object(1)\n",
      "memory usage: 6.1+ KB\n",
      "None\n"
     ]
    }
   ],
   "source": [
    "print(air.info())"
   ]
  },
  {
   "cell_type": "markdown",
   "id": "3e15692d",
   "metadata": {},
   "source": [
    "(3) 데이터의 변수들의 자료형을 출력하시오."
   ]
  },
  {
   "cell_type": "code",
   "execution_count": 18,
   "id": "eec77138",
   "metadata": {},
   "outputs": [
    {
     "name": "stdout",
     "output_type": "stream",
     "text": [
      "Ozone        int64\n",
      "Solar.R    float64\n",
      "Wind       float64\n",
      "Temp         int64\n",
      "Date        object\n",
      "dtype: object\n"
     ]
    }
   ],
   "source": [
    "print(air.dtypes)"
   ]
  },
  {
   "cell_type": "markdown",
   "id": "60d7b6ca",
   "metadata": {},
   "source": [
    "(4) 데이터에서 숫자 type 변수들에 대한 기초 통계량을 출력하시오."
   ]
  },
  {
   "cell_type": "code",
   "execution_count": 19,
   "id": "4dbe8d29",
   "metadata": {},
   "outputs": [
    {
     "name": "stdout",
     "output_type": "stream",
     "text": [
      "            Ozone     Solar.R        Wind        Temp\n",
      "count  153.000000  146.000000  153.000000  153.000000\n",
      "mean    42.052288  185.931507    9.957516   77.882353\n",
      "std     30.156127   90.058422    3.523001    9.465270\n",
      "min      1.000000    7.000000    1.700000   56.000000\n",
      "25%     20.000000  115.750000    7.400000   72.000000\n",
      "50%     34.000000  205.000000    9.700000   79.000000\n",
      "75%     59.000000  258.750000   11.500000   85.000000\n",
      "max    168.000000  334.000000   20.700000   97.000000\n"
     ]
    }
   ],
   "source": [
    "print(air.describe())"
   ]
  },
  {
   "cell_type": "markdown",
   "id": "bdcb64f6",
   "metadata": {},
   "source": [
    "(5) 'Ozone' 변수의 기초 통계량을 출력하시오."
   ]
  },
  {
   "cell_type": "code",
   "execution_count": 20,
   "id": "fc1dfc67",
   "metadata": {},
   "outputs": [
    {
     "name": "stdout",
     "output_type": "stream",
     "text": [
      "count    153.000000\n",
      "mean      42.052288\n",
      "std       30.156127\n",
      "min        1.000000\n",
      "25%       20.000000\n",
      "50%       34.000000\n",
      "75%       59.000000\n",
      "max      168.000000\n",
      "Name: Ozone, dtype: float64\n"
     ]
    }
   ],
   "source": [
    "print(air['Ozone'].describe())"
   ]
  },
  {
   "cell_type": "markdown",
   "id": "d4b9875d",
   "metadata": {},
   "source": [
    "(7) 'Wind' 변수의 기초 통계량을 출력하시오."
   ]
  },
  {
   "cell_type": "code",
   "execution_count": 21,
   "id": "c3a8c0c4",
   "metadata": {},
   "outputs": [
    {
     "name": "stdout",
     "output_type": "stream",
     "text": [
      "count    153.000000\n",
      "mean       9.957516\n",
      "std        3.523001\n",
      "min        1.700000\n",
      "25%        7.400000\n",
      "50%        9.700000\n",
      "75%       11.500000\n",
      "max       20.700000\n",
      "Name: Wind, dtype: float64\n"
     ]
    }
   ],
   "source": [
    "print(air['Wind'].describe())"
   ]
  },
  {
   "cell_type": "markdown",
   "id": "69764409",
   "metadata": {},
   "source": [
    "(8) 'Ozone' 변수의 중앙값을 출력하시오."
   ]
  },
  {
   "cell_type": "code",
   "execution_count": 23,
   "id": "baa14d68",
   "metadata": {},
   "outputs": [
    {
     "name": "stdout",
     "output_type": "stream",
     "text": [
      "34.0\n"
     ]
    }
   ],
   "source": [
    "print(air['Ozone'].median())"
   ]
  },
  {
   "cell_type": "markdown",
   "id": "8a83588b",
   "metadata": {},
   "source": [
    "(9) 'Wind' 변수의 최빈값을 출력하시오."
   ]
  },
  {
   "cell_type": "code",
   "execution_count": 24,
   "id": "a98b761d",
   "metadata": {},
   "outputs": [
    {
     "name": "stdout",
     "output_type": "stream",
     "text": [
      "0    11.5\n",
      "dtype: float64\n"
     ]
    }
   ],
   "source": [
    "wind = air['Wind']\n",
    "wind = pd.Series(wind)\n",
    "print(wind.mode())"
   ]
  },
  {
   "cell_type": "markdown",
   "id": "f0e395b6",
   "metadata": {},
   "source": [
    "(10) 'Temp' 변수의 4분위수를 출력하시오."
   ]
  },
  {
   "cell_type": "code",
   "execution_count": 25,
   "id": "4ddf2b9e",
   "metadata": {},
   "outputs": [
    {
     "name": "stdout",
     "output_type": "stream",
     "text": [
      "[56. 72. 79. 85. 97.]\n"
     ]
    }
   ],
   "source": [
    "print(np.percentile(air['Temp'], [0, 25, 50, 75, 100]))"
   ]
  }
 ],
 "metadata": {
  "kernelspec": {
   "display_name": "Python 3",
   "language": "python",
   "name": "python3"
  },
  "language_info": {
   "codemirror_mode": {
    "name": "ipython",
    "version": 3
   },
   "file_extension": ".py",
   "mimetype": "text/x-python",
   "name": "python",
   "nbconvert_exporter": "python",
   "pygments_lexer": "ipython3",
   "version": "3.8.8"
  }
 },
 "nbformat": 4,
 "nbformat_minor": 5
}
