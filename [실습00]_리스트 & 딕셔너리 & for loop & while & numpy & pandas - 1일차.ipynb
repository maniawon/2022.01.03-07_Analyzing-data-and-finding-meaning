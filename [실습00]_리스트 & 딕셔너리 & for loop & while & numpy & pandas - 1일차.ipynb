{
 "cells": [
  {
   "cell_type": "markdown",
   "id": "fdcd3248",
   "metadata": {},
   "source": [
    "# 1. 리스트,딕셔너리 & for loop"
   ]
  },
  {
   "cell_type": "markdown",
   "id": "11edc022",
   "metadata": {},
   "source": [
    "① 1~100 까지의 숫자 중 홀수이면서 3의 배수를 리스트로 저장하시오. (for loop를 사용하시오)"
   ]
  },
  {
   "cell_type": "code",
   "execution_count": 5,
   "id": "2d5a9ae4",
   "metadata": {},
   "outputs": [
    {
     "name": "stdout",
     "output_type": "stream",
     "text": [
      "[3, 9, 15, 21, 27, 33, 39, 45, 51, 57, 63, 69, 75, 81, 87, 93, 99]\n"
     ]
    }
   ],
   "source": [
    "# 방법1\n",
    "list1 = []\n",
    "for i in range(1, 101) :\n",
    "    if (i % 2 == 1) & (i % 3 == 0) :\n",
    "        list1.append(i)\n",
    "print(list1)"
   ]
  },
  {
   "cell_type": "code",
   "execution_count": 10,
   "id": "57db7983",
   "metadata": {},
   "outputs": [
    {
     "name": "stdout",
     "output_type": "stream",
     "text": [
      "[3, 9, 15, 21, 27, 33, 39, 45, 51, 57, 63, 69, 75, 81, 87, 93, 99]\n"
     ]
    }
   ],
   "source": [
    "# 방법2\n",
    "list1 = [i for i in range(1, 101) if (i % 2 == 1) & (i % 3 == 0)]\n",
    "print(list1)"
   ]
  },
  {
   "cell_type": "code",
   "execution_count": 13,
   "id": "973d93b7",
   "metadata": {},
   "outputs": [
    {
     "name": "stdout",
     "output_type": "stream",
     "text": [
      "[3, 9, 15, 21, 27, 33, 39, 45, 51, 57, 63, 69, 75, 81, 87, 93, 99]\n"
     ]
    }
   ],
   "source": [
    "# 방법3\n",
    "list1 = list(range(3, 101, 6))\n",
    "print(list1)"
   ]
  },
  {
   "cell_type": "markdown",
   "id": "af202bd7",
   "metadata": {},
   "source": [
    "② 숫자를 반복적으로 입력 받아 계속 더해 갑니다. 더한 숫자가 30을 넘으면 반복문을 멈추고 총 합계를 출력합니다."
   ]
  },
  {
   "cell_type": "code",
   "execution_count": 17,
   "id": "5be0e7a1",
   "metadata": {},
   "outputs": [
    {
     "name": "stdout",
     "output_type": "stream",
     "text": [
      "23\n",
      "21\n",
      "44\n"
     ]
    }
   ],
   "source": [
    "# while 문\n",
    "tot = 0\n",
    "while (True) :\n",
    "    numbers = int(input())\n",
    "    tot += numbers\n",
    "    if tot > 30 :\n",
    "        print(tot)\n",
    "        break"
   ]
  },
  {
   "cell_type": "code",
   "execution_count": 22,
   "id": "784c302a",
   "metadata": {},
   "outputs": [
    {
     "name": "stdout",
     "output_type": "stream",
     "text": [
      "23\n",
      "21\n",
      "44\n"
     ]
    }
   ],
   "source": [
    "# for 문\n",
    "tot = 0\n",
    "for _ in range(2) :\n",
    "    n = int(input())\n",
    "    tot += n\n",
    "print(tot)"
   ]
  },
  {
   "cell_type": "markdown",
   "id": "6e3c78fd",
   "metadata": {},
   "source": [
    "③ 아래 정의로 딕셔너리를 생성하시오.  \n",
    " d1 = { 'v1':23, 'v2':[1,3,5,7,9], 'v3':{'a':23, 'b':45}} \n",
    " \n",
    "생성한 딕셔너리로 부터 다음을 출력하시오.  \n",
    "- v2의 값 전체  \n",
    "- v2의 값 7  \n",
    "- v3의 값 23  "
   ]
  },
  {
   "cell_type": "code",
   "execution_count": 23,
   "id": "73ebdd54",
   "metadata": {
    "scrolled": true
   },
   "outputs": [
    {
     "name": "stdout",
     "output_type": "stream",
     "text": [
      "[1, 3, 5, 7, 9]\n",
      "7\n",
      "23\n"
     ]
    }
   ],
   "source": [
    "d1 = {'v1':23, 'v2':[1, 3, 5, 7, 9], 'v3':{'a':23, 'b':45}}\n",
    "\n",
    "print(d1['v2'])\n",
    "print(d1['v2'][3])\n",
    "print(d1['v3']['a'])"
   ]
  },
  {
   "cell_type": "markdown",
   "id": "e95cdc26",
   "metadata": {},
   "source": [
    "----------------------------------------------------------------------"
   ]
  },
  {
   "cell_type": "markdown",
   "id": "40e8592d",
   "metadata": {},
   "source": [
    "# 2.numpy"
   ]
  },
  {
   "cell_type": "markdown",
   "id": "0796d332",
   "metadata": {},
   "source": [
    "★ numpy  \n",
    "- numpy에서 axis=0 는 열\n",
    "- numpy에서 axis=1 는 행\n",
    "\n",
    "★ pandas  \n",
    "- pandas에서 axis=0 는 행  \n",
    "- pandas에서 axis=1 는 열"
   ]
  },
  {
   "cell_type": "markdown",
   "id": "04799c69",
   "metadata": {},
   "source": [
    "① 리스트를 이용하여 2차원 배열을 생성하고,  \n",
    " list1 = [[1,2,3,4,5],[4,5,6,7,8]]  \n",
    " \n",
    "다음을 수행하시오."
   ]
  },
  {
   "cell_type": "code",
   "execution_count": 51,
   "id": "6ed2a746",
   "metadata": {},
   "outputs": [],
   "source": [
    "import numpy as np\n",
    "list1 = [[1, 2, 3, 4, 5], [4, 5, 6, 7, 8]] # 2차원 리스트 만들기\n",
    "\n",
    "# array → np.array\n",
    "a = np.array(list1) # 리스트를 numpy array로 바꿔서 a에 넣기"
   ]
  },
  {
   "cell_type": "markdown",
   "id": "1222e3d1",
   "metadata": {},
   "source": [
    "- shape  "
   ]
  },
  {
   "cell_type": "code",
   "execution_count": 47,
   "id": "e4bfcdf6",
   "metadata": {},
   "outputs": [
    {
     "name": "stdout",
     "output_type": "stream",
     "text": [
      "(2, 5)\n"
     ]
    }
   ],
   "source": [
    "print(a.shape)"
   ]
  },
  {
   "cell_type": "markdown",
   "id": "61b38c8a",
   "metadata": {},
   "source": [
    "- 합, 평균, 표준편차  \n",
    "    - 전체  \n",
    "    - 열 기준 (# numpy에서 axis = 0)  \n",
    "    - 행 기준 (# numpy에서 axis = 1)  "
   ]
  },
  {
   "cell_type": "markdown",
   "id": "613ae7af",
   "metadata": {},
   "source": [
    "방법1 - numpy로 구하기"
   ]
  },
  {
   "cell_type": "code",
   "execution_count": 67,
   "id": "56d0cdc2",
   "metadata": {},
   "outputs": [
    {
     "name": "stdout",
     "output_type": "stream",
     "text": [
      "list1으로 만든 배열a:\n",
      "[[1 2 3 4 5]\n",
      " [4 5 6 7 8]]\n",
      "[합] ==================================================\n",
      "전체 합: 45\n",
      "열 기준 합: [ 5  7  9 11 13]\n",
      "행 기준 합: [15 30]\n",
      "[평균] ==================================================\n",
      "전체 평균: 4.5\n",
      "열 기준 평균: [2.5 3.5 4.5 5.5 6.5]\n",
      "행 기준 평균: [3. 6.]\n",
      "[표준편차] ==================================================\n",
      "전체 표준편차: 2.0615528128088303\n",
      "열 기준 평균: [1.5 1.5 1.5 1.5 1.5]\n",
      "행 기준 평균: [1.41421356 1.41421356]\n"
     ]
    }
   ],
   "source": [
    "print('list1으로 만든 배열a:')\n",
    "print(a)\n",
    "\n",
    "# 합\n",
    "print('[합]', '=' * 50)\n",
    "print('전체 합:', np.sum(a)) # 합 - 전체\n",
    "print('열 기준 합:', np.sum(a, axis=0)) # pandas에서 axis=0 는 행\n",
    "print('행 기준 합:', np.sum(a, axis=1)) # pandas에서 axis=1 는 열\n",
    "\n",
    "# 평균\n",
    "print('[평균]', '=' * 50)\n",
    "print('전체 평균:', np.mean(a))\n",
    "print('열 기준 평균:', np.mean(a, axis=0))\n",
    "print('행 기준 평균:', np.mean(a, axis=1))\n",
    "\n",
    "# 표준편차\n",
    "print('[표준편차]', '=' * 50)\n",
    "print('전체 표준편차:', np.std(a))\n",
    "print('열 기준 평균:', np.std(a, axis=0))\n",
    "print('행 기준 평균:', np.std(a, axis=1))"
   ]
  },
  {
   "cell_type": "markdown",
   "id": "a63db3f3",
   "metadata": {},
   "source": [
    "방법2 - array로 구하기"
   ]
  },
  {
   "cell_type": "code",
   "execution_count": 76,
   "id": "d2a3f4ee",
   "metadata": {},
   "outputs": [
    {
     "name": "stdout",
     "output_type": "stream",
     "text": [
      "list1으로 만든 배열a:\n",
      "[[1 2 3 4 5]\n",
      " [4 5 6 7 8]]\n",
      "[합] ==================================================\n",
      "전체 합: 45\n",
      "열 기준 합: [ 5  7  9 11 13]\n",
      "행 기준 합: [15 30]\n",
      "[평균] ==================================================\n",
      "전체 평균: 4.5\n",
      "열 기준 평균: [2.5 3.5 4.5 5.5 6.5]\n",
      "행 기준 평균: [3. 6.]\n",
      "[표준편차] ==================================================\n",
      "전체 표준편차: 2.0615528128088303\n",
      "열 기준 평균: [1.5 1.5 1.5 1.5 1.5]\n",
      "행 기준 평균: [1.41421356 1.41421356]\n"
     ]
    }
   ],
   "source": [
    "print('list1으로 만든 배열a:')\n",
    "print(a)\n",
    "\n",
    "# 합\n",
    "print('[합]', '=' * 50)\n",
    "print('전체 합:', a.sum()) # 합 - 전체\n",
    "print('열 기준 합:', a.sum(axis=0)) \n",
    "print('행 기준 합:', a.sum(axis=1)) \n",
    "\n",
    "# 평균\n",
    "print('[평균]', '=' * 50)\n",
    "print('전체 평균:', a.mean())\n",
    "print('열 기준 평균:', a.mean(axis=0))\n",
    "print('행 기준 평균:', a.mean(axis=1))\n",
    "\n",
    "# 표준편차\n",
    "print('[표준편차]', '=' * 50)\n",
    "print('전체 표준편차:', a.std())\n",
    "print('열 기준 평균:', a.std(axis=0))\n",
    "print('행 기준 평균:', a.std(axis=1))"
   ]
  },
  {
   "cell_type": "markdown",
   "id": "ca7bb436",
   "metadata": {},
   "source": [
    "② np.where( 조건, True일때, False일때) \n",
    "\n",
    "np.where를 이용하여 값이 짝수이면 1, 아니면 0을 출력하시오.  \n",
    "https://numpy.org/doc/stable/reference/generated/numpy.where.html  \n",
    "(https://numpy.org/doc/stable/reference/generated/numpy.where.html)"
   ]
  },
  {
   "cell_type": "code",
   "execution_count": 79,
   "id": "adef9f61",
   "metadata": {},
   "outputs": [
    {
     "name": "stdout",
     "output_type": "stream",
     "text": [
      "[[1 2 3 4 5]\n",
      " [4 5 6 7 8]]\n",
      "[[0 1 0 1 0]\n",
      " [1 0 1 0 1]]\n"
     ]
    }
   ],
   "source": [
    "# 2) np.where(조건, 참일때 값, 거짓일때 값)\n",
    "print(a)\n",
    "\n",
    "print(np.where(a % 2 == 0, 1, 0))"
   ]
  },
  {
   "cell_type": "markdown",
   "id": "79dacccb",
   "metadata": {},
   "source": [
    "③ np.argmax, np.argmin  \n",
    "- np.argmax : 가장 큰 값의 인덱스를 반환  \n",
    "https://numpy.org/doc/stable/reference/generated/numpy.argmax.html  \n",
    "\n",
    "- np.argmin : 가장 작은 값의 인덱스를 반환\n",
    "https://numpy.org/doc/stable/reference/generated/numpy.argmin.html  \n",
    "\n",
    "- 어레이 a에 대해서  \n",
    "   - 전체에서  \n",
    "   - 열 기준 (axis = 0)  \n",
    "   - 행 기준 (axis = 1)  "
   ]
  },
  {
   "cell_type": "code",
   "execution_count": 90,
   "id": "0d079efa",
   "metadata": {},
   "outputs": [
    {
     "name": "stdout",
     "output_type": "stream",
     "text": [
      "[[11 23 38]\n",
      " [25 31 19]]\n"
     ]
    }
   ],
   "source": [
    "import numpy as np\n",
    "list1 = [[11,23,38],[25,31,19]]\n",
    "a = np.array(list1)\n",
    "print(a)"
   ]
  },
  {
   "cell_type": "code",
   "execution_count": 91,
   "id": "8ba2dd08",
   "metadata": {},
   "outputs": [
    {
     "name": "stdout",
     "output_type": "stream",
     "text": [
      "전체에서 가장 큰 값의 인덱스: 2\n",
      "열 기준 가장 큰 값의 인덱스: [1 1 0]\n",
      "행 기준 가장 큰 값의 인덱스: [2 1]\n"
     ]
    }
   ],
   "source": [
    "# np.argmax : 가장 큰 값의 인덱스를 반환\n",
    "print('전체에서 가장 큰 값의 인덱스:', np.argmax(a)) # 전체에서 2번째 인덱스 값: 38\n",
    "print('열 기준 가장 큰 값의 인덱스:', np.argmax(a, axis=0)) # 열 기준 인덱스 값: 25, 31, 28\n",
    "print('행 기준 가장 큰 값의 인덱스:', np.argmax(a, axis=1)) # 행 기준 인덱스 값: 38, 31"
   ]
  },
  {
   "cell_type": "code",
   "execution_count": 97,
   "id": "59cae649",
   "metadata": {},
   "outputs": [
    {
     "name": "stdout",
     "output_type": "stream",
     "text": [
      "전체에서 가장 작은 값의 인덱스: 0\n",
      "열 기준 가장 작은 값의 인덱스: [0 0 1]\n",
      "행 기준 가장 작은 값의 인덱스: [0 2]\n"
     ]
    }
   ],
   "source": [
    "# np.argmin : 가장 작은 값의 인덱스를 반환\n",
    "print('전체에서 가장 작은 값의 인덱스:', np.argmin(a)) # 전체에서 0번째 인덱스 값: 11\n",
    "print('열 기준 가장 작은 값의 인덱스:', np.argmin(a, axis=0)) # 열 기준 인덱스 값: 11, 23, 19\n",
    "print('행 기준 가장 작은 값의 인덱스:', np.argmin(a, axis=1)) # 행 기준 인덱스 값: 11, 19"
   ]
  },
  {
   "cell_type": "markdown",
   "id": "abf8ed00",
   "metadata": {},
   "source": [
    "----------------------------------------------------------------------"
   ]
  },
  {
   "cell_type": "markdown",
   "id": "c79647e9",
   "metadata": {},
   "source": [
    "# 3. Pandas1"
   ]
  },
  {
   "cell_type": "markdown",
   "id": "61f5a6f3",
   "metadata": {},
   "source": [
    "① 데이터프레임에 대해서, 불러와서 상위 10개 행을 조회하세요.  \n",
    "path = \"https://bit.ly/3FsgwkJ\""
   ]
  },
  {
   "cell_type": "code",
   "execution_count": 102,
   "id": "71a0ee64",
   "metadata": {},
   "outputs": [
    {
     "name": "stdout",
     "output_type": "stream",
     "text": [
      "   PassengerId  Survived  Pclass  \\\n",
      "0            1         0       3   \n",
      "1            2         1       1   \n",
      "2            3         1       3   \n",
      "3            4         1       1   \n",
      "4            5         0       3   \n",
      "5            6         0       3   \n",
      "6            7         0       1   \n",
      "7            8         0       3   \n",
      "8            9         1       3   \n",
      "9           10         1       2   \n",
      "\n",
      "                                                Name     Sex   Age  SibSp  \\\n",
      "0                            Braund, Mr. Owen Harris    male  22.0      1   \n",
      "1  Cumings, Mrs. John Bradley (Florence Briggs Th...  female  38.0      1   \n",
      "2                             Heikkinen, Miss. Laina  female  26.0      0   \n",
      "3       Futrelle, Mrs. Jacques Heath (Lily May Peel)  female  35.0      1   \n",
      "4                           Allen, Mr. William Henry    male  35.0      0   \n",
      "5                                   Moran, Mr. James    male   NaN      0   \n",
      "6                            McCarthy, Mr. Timothy J    male  54.0      0   \n",
      "7                     Palsson, Master. Gosta Leonard    male   2.0      3   \n",
      "8  Johnson, Mrs. Oscar W (Elisabeth Vilhelmina Berg)  female  27.0      0   \n",
      "9                Nasser, Mrs. Nicholas (Adele Achem)  female  14.0      1   \n",
      "\n",
      "   Parch            Ticket     Fare Cabin Embarked  \n",
      "0      0         A/5 21171   7.2500   NaN        S  \n",
      "1      0          PC 17599  71.2833   C85        C  \n",
      "2      0  STON/O2. 3101282   7.9250   NaN        S  \n",
      "3      0            113803  53.1000  C123        S  \n",
      "4      0            373450   8.0500   NaN        S  \n",
      "5      0            330877   8.4583   NaN        Q  \n",
      "6      0             17463  51.8625   E46        S  \n",
      "7      1            349909  21.0750   NaN        S  \n",
      "8      2            347742  11.1333   NaN        S  \n",
      "9      0            237736  30.0708   NaN        C  \n"
     ]
    }
   ],
   "source": [
    "import pandas as pd\n",
    "path = 'https://bit.ly/3FsgwkJ' # 타이타닉\n",
    "titanic = pd.read_csv(path)\n",
    "\n",
    "print(titanic.head(10))"
   ]
  },
  {
   "cell_type": "markdown",
   "id": "ecc47f47",
   "metadata": {},
   "source": [
    "② 데이터프레임의 Age만 조회하시오."
   ]
  },
  {
   "cell_type": "code",
   "execution_count": 103,
   "id": "c743a134",
   "metadata": {},
   "outputs": [
    {
     "name": "stdout",
     "output_type": "stream",
     "text": [
      "0      22.0\n",
      "1      38.0\n",
      "2      26.0\n",
      "3      35.0\n",
      "4      35.0\n",
      "       ... \n",
      "886    27.0\n",
      "887    19.0\n",
      "888     NaN\n",
      "889    26.0\n",
      "890    32.0\n",
      "Name: Age, Length: 891, dtype: float64\n"
     ]
    }
   ],
   "source": [
    "print(titanic['Age'])"
   ]
  },
  {
   "cell_type": "markdown",
   "id": "22e7e86d",
   "metadata": {},
   "source": [
    "③ 데이터프레임에서 1~5행까지, Name, Age, Embarked 를 조회"
   ]
  },
  {
   "cell_type": "code",
   "execution_count": 107,
   "id": "fe6c8c4b",
   "metadata": {},
   "outputs": [
    {
     "name": "stdout",
     "output_type": "stream",
     "text": [
      "                                                Name   Age Embarked\n",
      "1  Cumings, Mrs. John Bradley (Florence Briggs Th...  38.0        C\n",
      "2                             Heikkinen, Miss. Laina  26.0        S\n",
      "3       Futrelle, Mrs. Jacques Heath (Lily May Peel)  35.0        S\n",
      "4                           Allen, Mr. William Henry  35.0        S\n",
      "5                                   Moran, Mr. James   NaN        Q\n"
     ]
    }
   ],
   "source": [
    "print(titanic.loc[ 1:5, ['Name', 'Age', 'Embarked']])"
   ]
  },
  {
   "cell_type": "markdown",
   "id": "394bfa4b",
   "metadata": {},
   "source": [
    "④ Age가 70세 이상인 탑승객을 조회하시오."
   ]
  },
  {
   "cell_type": "code",
   "execution_count": 121,
   "id": "461f4e54",
   "metadata": {},
   "outputs": [
    {
     "name": "stdout",
     "output_type": "stream",
     "text": [
      "     PassengerId  Survived  Pclass                                  Name  \\\n",
      "96            97         0       1             Goldschmidt, Mr. George B   \n",
      "116          117         0       3                  Connors, Mr. Patrick   \n",
      "493          494         0       1               Artagaveytia, Mr. Ramon   \n",
      "630          631         1       1  Barkworth, Mr. Algernon Henry Wilson   \n",
      "672          673         0       2           Mitchell, Mr. Henry Michael   \n",
      "745          746         0       1          Crosby, Capt. Edward Gifford   \n",
      "851          852         0       3                   Svensson, Mr. Johan   \n",
      "\n",
      "      Sex   Age  SibSp  Parch      Ticket     Fare Cabin Embarked  \n",
      "96   male  71.0      0      0    PC 17754  34.6542    A5        C  \n",
      "116  male  70.5      0      0      370369   7.7500   NaN        Q  \n",
      "493  male  71.0      0      0    PC 17609  49.5042   NaN        C  \n",
      "630  male  80.0      0      0       27042  30.0000   A23        S  \n",
      "672  male  70.0      0      0  C.A. 24580  10.5000   NaN        S  \n",
      "745  male  70.0      1      1   WE/P 5735  71.0000   B22        S  \n",
      "851  male  74.0      0      0      347060   7.7750   NaN        S  \n"
     ]
    }
   ],
   "source": [
    "# 방법1\n",
    "print(titanic.loc[titanic['Age'] >= 70, :])"
   ]
  },
  {
   "cell_type": "code",
   "execution_count": 122,
   "id": "b1cc6613",
   "metadata": {},
   "outputs": [
    {
     "name": "stdout",
     "output_type": "stream",
     "text": [
      "     PassengerId  Survived  Pclass                                  Name  \\\n",
      "96            97         0       1             Goldschmidt, Mr. George B   \n",
      "116          117         0       3                  Connors, Mr. Patrick   \n",
      "493          494         0       1               Artagaveytia, Mr. Ramon   \n",
      "630          631         1       1  Barkworth, Mr. Algernon Henry Wilson   \n",
      "672          673         0       2           Mitchell, Mr. Henry Michael   \n",
      "745          746         0       1          Crosby, Capt. Edward Gifford   \n",
      "851          852         0       3                   Svensson, Mr. Johan   \n",
      "\n",
      "      Sex   Age  SibSp  Parch      Ticket     Fare Cabin Embarked  \n",
      "96   male  71.0      0      0    PC 17754  34.6542    A5        C  \n",
      "116  male  70.5      0      0      370369   7.7500   NaN        Q  \n",
      "493  male  71.0      0      0    PC 17609  49.5042   NaN        C  \n",
      "630  male  80.0      0      0       27042  30.0000   A23        S  \n",
      "672  male  70.0      0      0  C.A. 24580  10.5000   NaN        S  \n",
      "745  male  70.0      1      1   WE/P 5735  71.0000   B22        S  \n",
      "851  male  74.0      0      0      347060   7.7750   NaN        S  \n"
     ]
    }
   ],
   "source": [
    "# 방법2\n",
    "print(titanic.loc[titanic['Age'] >= 70])"
   ]
  },
  {
   "cell_type": "code",
   "execution_count": 125,
   "id": "8f9a5087",
   "metadata": {},
   "outputs": [
    {
     "name": "stdout",
     "output_type": "stream",
     "text": [
      "     PassengerId  Survived  Pclass                                  Name  \\\n",
      "96            97         0       1             Goldschmidt, Mr. George B   \n",
      "116          117         0       3                  Connors, Mr. Patrick   \n",
      "493          494         0       1               Artagaveytia, Mr. Ramon   \n",
      "630          631         1       1  Barkworth, Mr. Algernon Henry Wilson   \n",
      "672          673         0       2           Mitchell, Mr. Henry Michael   \n",
      "745          746         0       1          Crosby, Capt. Edward Gifford   \n",
      "851          852         0       3                   Svensson, Mr. Johan   \n",
      "\n",
      "      Sex   Age  SibSp  Parch      Ticket     Fare Cabin Embarked  \n",
      "96   male  71.0      0      0    PC 17754  34.6542    A5        C  \n",
      "116  male  70.5      0      0      370369   7.7500   NaN        Q  \n",
      "493  male  71.0      0      0    PC 17609  49.5042   NaN        C  \n",
      "630  male  80.0      0      0       27042  30.0000   A23        S  \n",
      "672  male  70.0      0      0  C.A. 24580  10.5000   NaN        S  \n",
      "745  male  70.0      1      1   WE/P 5735  71.0000   B22        S  \n",
      "851  male  74.0      0      0      347060   7.7750   NaN        S  \n"
     ]
    }
   ],
   "source": [
    "# 방법3\n",
    "print(titanic[titanic['Age'] >= 70])"
   ]
  },
  {
   "cell_type": "markdown",
   "id": "fcb1fe81",
   "metadata": {},
   "source": [
    "⑤ Age가 60세 이상이고, 성별이 여성인 탑승객을 조회하시오."
   ]
  },
  {
   "cell_type": "code",
   "execution_count": 141,
   "id": "1f3a32f6",
   "metadata": {},
   "outputs": [
    {
     "name": "stdout",
     "output_type": "stream",
     "text": [
      "     PassengerId  Survived  Pclass  \\\n",
      "275          276         1       1   \n",
      "366          367         1       1   \n",
      "483          484         1       3   \n",
      "829          830         1       1   \n",
      "\n",
      "                                                 Name     Sex   Age  SibSp  \\\n",
      "275                 Andrews, Miss. Kornelia Theodosia  female  63.0      1   \n",
      "366  Warren, Mrs. Frank Manley (Anna Sophia Atkinson)  female  60.0      1   \n",
      "483                            Turkula, Mrs. (Hedwig)  female  63.0      0   \n",
      "829         Stone, Mrs. George Nelson (Martha Evelyn)  female  62.0      0   \n",
      "\n",
      "     Parch  Ticket     Fare Cabin Embarked  \n",
      "275      0   13502  77.9583    D7        S  \n",
      "366      0  110813  75.2500   D37        C  \n",
      "483      0    4134   9.5875   NaN        S  \n",
      "829      0  113572  80.0000   B28      NaN  \n"
     ]
    }
   ],
   "source": [
    "print(titanic.loc[(titanic['Age'] >= 60) & (titanic['Sex'] == 'female')])"
   ]
  },
  {
   "cell_type": "markdown",
   "id": "f96c3931",
   "metadata": {},
   "source": [
    "⑥ Age가 20~22 사이인 탑승객을 조회하시오."
   ]
  },
  {
   "cell_type": "code",
   "execution_count": 142,
   "id": "5485d437",
   "metadata": {},
   "outputs": [
    {
     "name": "stdout",
     "output_type": "stream",
     "text": [
      "     PassengerId  Survived  Pclass                            Name     Sex  \\\n",
      "0              1         0       3         Braund, Mr. Owen Harris    male   \n",
      "12            13         0       3  Saundercock, Mr. William Henry    male   \n",
      "37            38         0       3        Cann, Mr. Ernest Charles    male   \n",
      "51            52         0       3    Nosworthy, Mr. Richard Cater    male   \n",
      "56            57         1       2               Rugg, Miss. Emily  female   \n",
      "..           ...       ...     ...                             ...     ...   \n",
      "836          837         0       3                Pasic, Mr. Jakob    male   \n",
      "840          841         0       3     Alhomaki, Mr. Ilmari Rudolf    male   \n",
      "861          862         0       2     Giles, Mr. Frederick Edward    male   \n",
      "876          877         0       3   Gustafsson, Mr. Alfred Ossian    male   \n",
      "882          883         0       3    Dahlberg, Miss. Gerda Ulrika  female   \n",
      "\n",
      "      Age  SibSp  Parch            Ticket     Fare Cabin Embarked  \n",
      "0    22.0      1      0         A/5 21171   7.2500   NaN        S  \n",
      "12   20.0      0      0         A/5. 2151   8.0500   NaN        S  \n",
      "37   21.0      0      0        A./5. 2152   8.0500   NaN        S  \n",
      "51   21.0      0      0        A/4. 39886   7.8000   NaN        S  \n",
      "56   21.0      0      0        C.A. 31026  10.5000   NaN        S  \n",
      "..    ...    ...    ...               ...      ...   ...      ...  \n",
      "836  21.0      0      0            315097   8.6625   NaN        S  \n",
      "840  20.0      0      0  SOTON/O2 3101287   7.9250   NaN        S  \n",
      "861  21.0      1      0             28134  11.5000   NaN        S  \n",
      "876  20.0      0      0              7534   9.8458   NaN        S  \n",
      "882  22.0      0      0              7552  10.5167   NaN        S  \n",
      "\n",
      "[67 rows x 12 columns]\n"
     ]
    }
   ],
   "source": [
    "# 방법1\n",
    "print(titanic.loc[(titanic['Age'] >= 20) & (titanic['Age'] <= 22)])"
   ]
  },
  {
   "cell_type": "code",
   "execution_count": 146,
   "id": "d8a52260",
   "metadata": {
    "scrolled": true
   },
   "outputs": [
    {
     "name": "stdout",
     "output_type": "stream",
     "text": [
      "     PassengerId  Survived  Pclass                            Name     Sex  \\\n",
      "0              1         0       3         Braund, Mr. Owen Harris    male   \n",
      "12            13         0       3  Saundercock, Mr. William Henry    male   \n",
      "37            38         0       3        Cann, Mr. Ernest Charles    male   \n",
      "51            52         0       3    Nosworthy, Mr. Richard Cater    male   \n",
      "56            57         1       2               Rugg, Miss. Emily  female   \n",
      "..           ...       ...     ...                             ...     ...   \n",
      "836          837         0       3                Pasic, Mr. Jakob    male   \n",
      "840          841         0       3     Alhomaki, Mr. Ilmari Rudolf    male   \n",
      "861          862         0       2     Giles, Mr. Frederick Edward    male   \n",
      "876          877         0       3   Gustafsson, Mr. Alfred Ossian    male   \n",
      "882          883         0       3    Dahlberg, Miss. Gerda Ulrika  female   \n",
      "\n",
      "      Age  SibSp  Parch            Ticket     Fare Cabin Embarked  \n",
      "0    22.0      1      0         A/5 21171   7.2500   NaN        S  \n",
      "12   20.0      0      0         A/5. 2151   8.0500   NaN        S  \n",
      "37   21.0      0      0        A./5. 2152   8.0500   NaN        S  \n",
      "51   21.0      0      0        A/4. 39886   7.8000   NaN        S  \n",
      "56   21.0      0      0        C.A. 31026  10.5000   NaN        S  \n",
      "..    ...    ...    ...               ...      ...   ...      ...  \n",
      "836  21.0      0      0            315097   8.6625   NaN        S  \n",
      "840  20.0      0      0  SOTON/O2 3101287   7.9250   NaN        S  \n",
      "861  21.0      1      0             28134  11.5000   NaN        S  \n",
      "876  20.0      0      0              7534   9.8458   NaN        S  \n",
      "882  22.0      0      0              7552  10.5167   NaN        S  \n",
      "\n",
      "[67 rows x 12 columns]\n"
     ]
    }
   ],
   "source": [
    "# 방법2 - between(이상, 이하)\n",
    "print(titanic[titanic['Age'].between(20, 22)])"
   ]
  },
  {
   "cell_type": "markdown",
   "id": "635f3e31",
   "metadata": {},
   "source": [
    "isin() 메서드 : 데이터가 있는지 판별해준다.  \n",
    "- Series.isin(values)  \n",
    "- DataFrame.isin(values)"
   ]
  },
  {
   "cell_type": "code",
   "execution_count": 148,
   "id": "a7f2fab5",
   "metadata": {},
   "outputs": [
    {
     "name": "stdout",
     "output_type": "stream",
     "text": [
      "     PassengerId  Survived  Pclass                            Name     Sex  \\\n",
      "0              1         0       3         Braund, Mr. Owen Harris    male   \n",
      "12            13         0       3  Saundercock, Mr. William Henry    male   \n",
      "37            38         0       3        Cann, Mr. Ernest Charles    male   \n",
      "51            52         0       3    Nosworthy, Mr. Richard Cater    male   \n",
      "56            57         1       2               Rugg, Miss. Emily  female   \n",
      "..           ...       ...     ...                             ...     ...   \n",
      "836          837         0       3                Pasic, Mr. Jakob    male   \n",
      "840          841         0       3     Alhomaki, Mr. Ilmari Rudolf    male   \n",
      "861          862         0       2     Giles, Mr. Frederick Edward    male   \n",
      "876          877         0       3   Gustafsson, Mr. Alfred Ossian    male   \n",
      "882          883         0       3    Dahlberg, Miss. Gerda Ulrika  female   \n",
      "\n",
      "      Age  SibSp  Parch            Ticket     Fare Cabin Embarked  \n",
      "0    22.0      1      0         A/5 21171   7.2500   NaN        S  \n",
      "12   20.0      0      0         A/5. 2151   8.0500   NaN        S  \n",
      "37   21.0      0      0        A./5. 2152   8.0500   NaN        S  \n",
      "51   21.0      0      0        A/4. 39886   7.8000   NaN        S  \n",
      "56   21.0      0      0        C.A. 31026  10.5000   NaN        S  \n",
      "..    ...    ...    ...               ...      ...   ...      ...  \n",
      "836  21.0      0      0            315097   8.6625   NaN        S  \n",
      "840  20.0      0      0  SOTON/O2 3101287   7.9250   NaN        S  \n",
      "861  21.0      1      0             28134  11.5000   NaN        S  \n",
      "876  20.0      0      0              7534   9.8458   NaN        S  \n",
      "882  22.0      0      0              7552  10.5167   NaN        S  \n",
      "\n",
      "[66 rows x 12 columns]\n"
     ]
    }
   ],
   "source": [
    "# isin() 에서 리스트로 조회\n",
    "print(titanic[titanic['Age'].isin([20, 21, 22])]) # 20세 or 21세 or 22세 ← 이렇게 조회한거랑 똑같은 의미!`ㄴ"
   ]
  },
  {
   "cell_type": "markdown",
   "id": "1235c546",
   "metadata": {},
   "source": [
    "→ Age가 20세 이상 ~ 22세 이하를 찾고싶어서 isin() 메서드로 찾으니까  \n",
    "→ 67개의 행이 나와야하는데 66개 행이 나오는 오류가 발생했다.  \n",
    "→ 범위를 구할 때는 between() 메서드를 이용하자  \n",
    "→ 특정값 조회는 isin() 메서드를 사용하자"
   ]
  },
  {
   "cell_type": "markdown",
   "id": "e66df17d",
   "metadata": {},
   "source": [
    "⑦ Pclass가 1이거나 3인 탑승객을 조회하시오."
   ]
  },
  {
   "cell_type": "code",
   "execution_count": 158,
   "id": "4d35ddad",
   "metadata": {},
   "outputs": [
    {
     "name": "stdout",
     "output_type": "stream",
     "text": [
      "     PassengerId  Survived  Pclass  \\\n",
      "0              1         0       3   \n",
      "1              2         1       1   \n",
      "2              3         1       3   \n",
      "3              4         1       1   \n",
      "4              5         0       3   \n",
      "..           ...       ...     ...   \n",
      "885          886         0       3   \n",
      "887          888         1       1   \n",
      "888          889         0       3   \n",
      "889          890         1       1   \n",
      "890          891         0       3   \n",
      "\n",
      "                                                  Name     Sex   Age  SibSp  \\\n",
      "0                              Braund, Mr. Owen Harris    male  22.0      1   \n",
      "1    Cumings, Mrs. John Bradley (Florence Briggs Th...  female  38.0      1   \n",
      "2                               Heikkinen, Miss. Laina  female  26.0      0   \n",
      "3         Futrelle, Mrs. Jacques Heath (Lily May Peel)  female  35.0      1   \n",
      "4                             Allen, Mr. William Henry    male  35.0      0   \n",
      "..                                                 ...     ...   ...    ...   \n",
      "885               Rice, Mrs. William (Margaret Norton)  female  39.0      0   \n",
      "887                       Graham, Miss. Margaret Edith  female  19.0      0   \n",
      "888           Johnston, Miss. Catherine Helen \"Carrie\"  female   NaN      1   \n",
      "889                              Behr, Mr. Karl Howell    male  26.0      0   \n",
      "890                                Dooley, Mr. Patrick    male  32.0      0   \n",
      "\n",
      "     Parch            Ticket     Fare Cabin Embarked  \n",
      "0        0         A/5 21171   7.2500   NaN        S  \n",
      "1        0          PC 17599  71.2833   C85        C  \n",
      "2        0  STON/O2. 3101282   7.9250   NaN        S  \n",
      "3        0            113803  53.1000  C123        S  \n",
      "4        0            373450   8.0500   NaN        S  \n",
      "..     ...               ...      ...   ...      ...  \n",
      "885      5            382652  29.1250   NaN        Q  \n",
      "887      0            112053  30.0000   B42        S  \n",
      "888      2        W./C. 6607  23.4500   NaN        S  \n",
      "889      0            111369  30.0000  C148        C  \n",
      "890      0            370376   7.7500   NaN        Q  \n",
      "\n",
      "[707 rows x 12 columns]\n"
     ]
    }
   ],
   "source": [
    "# 방법1\n",
    "print(titanic.loc[(titanic['Pclass'] == 1) | (titanic['Pclass'] == 3)])"
   ]
  },
  {
   "cell_type": "code",
   "execution_count": 157,
   "id": "e1daaef2",
   "metadata": {},
   "outputs": [
    {
     "name": "stdout",
     "output_type": "stream",
     "text": [
      "     PassengerId  Survived  Pclass  \\\n",
      "0              1         0       3   \n",
      "1              2         1       1   \n",
      "2              3         1       3   \n",
      "3              4         1       1   \n",
      "4              5         0       3   \n",
      "..           ...       ...     ...   \n",
      "885          886         0       3   \n",
      "887          888         1       1   \n",
      "888          889         0       3   \n",
      "889          890         1       1   \n",
      "890          891         0       3   \n",
      "\n",
      "                                                  Name     Sex   Age  SibSp  \\\n",
      "0                              Braund, Mr. Owen Harris    male  22.0      1   \n",
      "1    Cumings, Mrs. John Bradley (Florence Briggs Th...  female  38.0      1   \n",
      "2                               Heikkinen, Miss. Laina  female  26.0      0   \n",
      "3         Futrelle, Mrs. Jacques Heath (Lily May Peel)  female  35.0      1   \n",
      "4                             Allen, Mr. William Henry    male  35.0      0   \n",
      "..                                                 ...     ...   ...    ...   \n",
      "885               Rice, Mrs. William (Margaret Norton)  female  39.0      0   \n",
      "887                       Graham, Miss. Margaret Edith  female  19.0      0   \n",
      "888           Johnston, Miss. Catherine Helen \"Carrie\"  female   NaN      1   \n",
      "889                              Behr, Mr. Karl Howell    male  26.0      0   \n",
      "890                                Dooley, Mr. Patrick    male  32.0      0   \n",
      "\n",
      "     Parch            Ticket     Fare Cabin Embarked  \n",
      "0        0         A/5 21171   7.2500   NaN        S  \n",
      "1        0          PC 17599  71.2833   C85        C  \n",
      "2        0  STON/O2. 3101282   7.9250   NaN        S  \n",
      "3        0            113803  53.1000  C123        S  \n",
      "4        0            373450   8.0500   NaN        S  \n",
      "..     ...               ...      ...   ...      ...  \n",
      "885      5            382652  29.1250   NaN        Q  \n",
      "887      0            112053  30.0000   B42        S  \n",
      "888      2        W./C. 6607  23.4500   NaN        S  \n",
      "889      0            111369  30.0000  C148        C  \n",
      "890      0            370376   7.7500   NaN        Q  \n",
      "\n",
      "[707 rows x 12 columns]\n"
     ]
    }
   ],
   "source": [
    "# 방법2\n",
    "print(titanic.loc[titanic['Pclass'].isin([1,3]) ]) # 리스트로 조회"
   ]
  },
  {
   "cell_type": "markdown",
   "id": "cc8bac61",
   "metadata": {},
   "source": [
    "⑧ 승선지역(Embarked)별 평균 운임을 조회하시오."
   ]
  },
  {
   "cell_type": "code",
   "execution_count": 161,
   "id": "e773aa02",
   "metadata": {
    "scrolled": true
   },
   "outputs": [
    {
     "name": "stdout",
     "output_type": "stream",
     "text": [
      "  Embarked       Fare\n",
      "0        C  59.954144\n",
      "1        Q  13.276030\n",
      "2        S  27.079812\n"
     ]
    }
   ],
   "source": [
    "print(titanic.groupby(by='Embarked', as_index=False)['Fare'].mean())"
   ]
  },
  {
   "cell_type": "markdown",
   "id": "89f1f713",
   "metadata": {},
   "source": [
    "----------------------------------------------------------------------"
   ]
  },
  {
   "cell_type": "markdown",
   "id": "27f68a52",
   "metadata": {},
   "source": [
    "# 4. Pandas2"
   ]
  },
  {
   "cell_type": "markdown",
   "id": "54a45fa6",
   "metadata": {},
   "source": [
    "① df1을 구성하는 data1, df2를 구성하는 data2가 아래와 같을 때, 두 데이터 프레임을 생성하고 행을 기준으로 병합하시오.  \n",
    "data1 = {'col1': [1, 2], 'col2': ['a', 'b']}  \n",
    "data2 = {'col1': [3, 4], 'col2': ['c', 'd']}"
   ]
  },
  {
   "cell_type": "code",
   "execution_count": 195,
   "id": "7ae60384",
   "metadata": {},
   "outputs": [
    {
     "name": "stdout",
     "output_type": "stream",
     "text": [
      "   col1 col2\n",
      "0     1    a\n",
      "1     2    b\n",
      "   col1 col2\n",
      "0     3    c\n",
      "1     4    d\n"
     ]
    }
   ],
   "source": [
    "import pandas as pd\n",
    "\n",
    "# 딕셔너리 data1의 키는 - 컬럼명\n",
    "#                       - 리스트의 값들은 각각의 행에 대응하는 데이터\n",
    "data1 = {'col1':[1, 2], 'col2':['a', 'b']}\n",
    "#  df1 데이터프레임 생성\n",
    "df1 = pd.DataFrame(data1, columns=['col1', 'col2'])\n",
    "print(df1)\n",
    "\n",
    "# 딕셔너리 data2의 키는 컬럼명\n",
    "#                       리스트의 값들은 각각의 행에 대응하는 데이터\n",
    "data2 = {'col1':[3, 4], 'col2':['c', 'd']}\n",
    "#  df2 데이터프레임 생성\n",
    "df2 = pd.DataFrame(data2, columns=['col1', 'col2'])\n",
    "print(df2)"
   ]
  },
  {
   "cell_type": "markdown",
   "id": "84d72a77",
   "metadata": {},
   "source": [
    "pd.concat( [데이터프레임1, 데이터프레임2] , axis=0) : **행**을 기준으로 병합  \n",
    "axis=0가 디폴트 값"
   ]
  },
  {
   "cell_type": "code",
   "execution_count": 193,
   "id": "62a74605",
   "metadata": {},
   "outputs": [
    {
     "data": {
      "text/html": [
       "<div>\n",
       "<style scoped>\n",
       "    .dataframe tbody tr th:only-of-type {\n",
       "        vertical-align: middle;\n",
       "    }\n",
       "\n",
       "    .dataframe tbody tr th {\n",
       "        vertical-align: top;\n",
       "    }\n",
       "\n",
       "    .dataframe thead th {\n",
       "        text-align: right;\n",
       "    }\n",
       "</style>\n",
       "<table border=\"1\" class=\"dataframe\">\n",
       "  <thead>\n",
       "    <tr style=\"text-align: right;\">\n",
       "      <th></th>\n",
       "      <th>col1</th>\n",
       "      <th>col2</th>\n",
       "    </tr>\n",
       "  </thead>\n",
       "  <tbody>\n",
       "    <tr>\n",
       "      <th>0</th>\n",
       "      <td>1</td>\n",
       "      <td>a</td>\n",
       "    </tr>\n",
       "    <tr>\n",
       "      <th>1</th>\n",
       "      <td>2</td>\n",
       "      <td>b</td>\n",
       "    </tr>\n",
       "    <tr>\n",
       "      <th>0</th>\n",
       "      <td>3</td>\n",
       "      <td>c</td>\n",
       "    </tr>\n",
       "    <tr>\n",
       "      <th>1</th>\n",
       "      <td>4</td>\n",
       "      <td>d</td>\n",
       "    </tr>\n",
       "  </tbody>\n",
       "</table>\n",
       "</div>"
      ],
      "text/plain": [
       "   col1 col2\n",
       "0     1    a\n",
       "1     2    b\n",
       "0     3    c\n",
       "1     4    d"
      ]
     },
     "execution_count": 193,
     "metadata": {},
     "output_type": "execute_result"
    }
   ],
   "source": [
    "## 두 데이터 프레임을 생성하고 행을 기준으로 병합 ##\n",
    "df = pd.concat([df1, df2], axis=0)\n",
    "df"
   ]
  },
  {
   "cell_type": "markdown",
   "id": "5e845e65",
   "metadata": {},
   "source": [
    "② 앞서 생성한 데이터 프레임 df1, df2를 열을 기준으로 병합하시오.  \n",
    "data1 = {'col1': [1, 2], 'col2': ['a', 'b']}  \n",
    "data2 = {'col1': [3, 4], 'col2': ['c', 'd']}"
   ]
  },
  {
   "cell_type": "markdown",
   "id": "a86ac066",
   "metadata": {},
   "source": [
    "pd.concat( [데이터프레임1, 데이터프레임2] , axis=1) : **열**을 기준으로 병합  \n",
    "axis=0가 디폴트 값"
   ]
  },
  {
   "cell_type": "code",
   "execution_count": 196,
   "id": "26cbb955",
   "metadata": {},
   "outputs": [
    {
     "data": {
      "text/html": [
       "<div>\n",
       "<style scoped>\n",
       "    .dataframe tbody tr th:only-of-type {\n",
       "        vertical-align: middle;\n",
       "    }\n",
       "\n",
       "    .dataframe tbody tr th {\n",
       "        vertical-align: top;\n",
       "    }\n",
       "\n",
       "    .dataframe thead th {\n",
       "        text-align: right;\n",
       "    }\n",
       "</style>\n",
       "<table border=\"1\" class=\"dataframe\">\n",
       "  <thead>\n",
       "    <tr style=\"text-align: right;\">\n",
       "      <th></th>\n",
       "      <th>col1</th>\n",
       "      <th>col2</th>\n",
       "      <th>col1</th>\n",
       "      <th>col2</th>\n",
       "    </tr>\n",
       "  </thead>\n",
       "  <tbody>\n",
       "    <tr>\n",
       "      <th>0</th>\n",
       "      <td>1</td>\n",
       "      <td>a</td>\n",
       "      <td>3</td>\n",
       "      <td>c</td>\n",
       "    </tr>\n",
       "    <tr>\n",
       "      <th>1</th>\n",
       "      <td>2</td>\n",
       "      <td>b</td>\n",
       "      <td>4</td>\n",
       "      <td>d</td>\n",
       "    </tr>\n",
       "  </tbody>\n",
       "</table>\n",
       "</div>"
      ],
      "text/plain": [
       "   col1 col2  col1 col2\n",
       "0     1    a     3    c\n",
       "1     2    b     4    d"
      ]
     },
     "execution_count": 196,
     "metadata": {},
     "output_type": "execute_result"
    }
   ],
   "source": [
    "df = pd.concat([df1, df2], axis=1)\n",
    "df"
   ]
  }
 ],
 "metadata": {
  "kernelspec": {
   "display_name": "Python 3",
   "language": "python",
   "name": "python3"
  },
  "language_info": {
   "codemirror_mode": {
    "name": "ipython",
    "version": 3
   },
   "file_extension": ".py",
   "mimetype": "text/x-python",
   "name": "python",
   "nbconvert_exporter": "python",
   "pygments_lexer": "ipython3",
   "version": "3.8.8"
  }
 },
 "nbformat": 4,
 "nbformat_minor": 5
}
