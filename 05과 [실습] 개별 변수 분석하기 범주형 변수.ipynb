{
 "cells": [
  {
   "cell_type": "markdown",
   "id": "38be3546",
   "metadata": {
    "id": "38be3546"
   },
   "source": [
    "# chapter 5. 개별 변수 분석하기 범주형 변수"
   ]
  },
  {
   "cell_type": "code",
   "execution_count": 69,
   "id": "df8a71bc",
   "metadata": {},
   "outputs": [],
   "source": [
    "import numpy as np\n",
    "import pandas as pd\n",
    "import matplotlib.pyplot as plt"
   ]
  },
  {
   "cell_type": "markdown",
   "id": "d24346e0",
   "metadata": {
    "id": "d24346e0"
   },
   "source": [
    "## 1) 범주형 변수의 기초 통계량"
   ]
  },
  {
   "cell_type": "markdown",
   "id": "20d7da79",
   "metadata": {
    "id": "20d7da79"
   },
   "source": [
    "① 성별 데이터가 아래와 같을 때, count를 이용하여 범주별 빈도수와 비율을 확인하시오.\n",
    "* gender = ['F','M','F','F','F','M','F','M','M']\n",
    "* 비율 = 범주별 빈도 / 전체 개수"
   ]
  },
  {
   "cell_type": "code",
   "execution_count": 88,
   "id": "cc0e66aa",
   "metadata": {},
   "outputs": [
    {
     "name": "stdout",
     "output_type": "stream",
     "text": [
      "[범주별 빈도수] ==================================================\n",
      " 'M' 범주별 빈도수: 4\n",
      " 'F' 범주별 빈도수: 5\n",
      "\n",
      "[범주별 비율] ==================================================\n",
      " 'M' 범주별 비율: 0.4444444444444444\n",
      " 'F' 범주별 비율: 0.5555555555555556\n"
     ]
    }
   ],
   "source": [
    "gender = ['F','M','F','F','F','M','F','M','M']\n",
    "\n",
    "m_count = gender.count('M')\n",
    "f_count = gender.count('F')\n",
    "\n",
    "print('[범주별 빈도수]', '='*50)\n",
    "print(\" 'M' 범주별 빈도수:\", m_count)\n",
    "print(\" 'F' 범주별 빈도수:\", f_count)\n",
    "\n",
    "print()\n",
    "\n",
    "print('[범주별 비율]', '='*50)\n",
    "print(\" 'M' 범주별 비율:\", m_count / len(gender))\n",
    "print(\" 'F' 범주별 비율:\", f_count / len(gender))"
   ]
  },
  {
   "cell_type": "markdown",
   "id": "32dcbfe8",
   "metadata": {
    "id": "32dcbfe8"
   },
   "source": [
    "② 이번에는 pandas의 .value_counts()를 이용하여 범주별 빈도수와 비율을 구해 봅시다.\n",
    "* gender = ['F','M','F','F','F','M','F','M','M']"
   ]
  },
  {
   "cell_type": "code",
   "execution_count": 97,
   "id": "a74f3bfd",
   "metadata": {},
   "outputs": [
    {
     "name": "stdout",
     "output_type": "stream",
     "text": [
      "[범주별 빈도수] ==================================================\n",
      "F    5\n",
      "M    4\n",
      "dtype: int64\n",
      "\n",
      "[범주별 비율] ==================================================\n",
      "F    0.555556\n",
      "M    0.444444\n",
      "dtype: float64\n"
     ]
    }
   ],
   "source": [
    "gender = ['F','M','F','F','F','M','F','M','M']\n",
    "\n",
    "# 리스트 → Series\n",
    "gender = pd.Series(gender)\n",
    "\n",
    "print('[범주별 빈도수]', '='*50)\n",
    "print(gender.value_counts())\n",
    "\n",
    "print()\n",
    "\n",
    "print('[범주별 비율]', '='*50)\n",
    "print(gender.value_counts() / len(gender))"
   ]
  },
  {
   "cell_type": "markdown",
   "id": "c9c7338e",
   "metadata": {
    "id": "c9c7338e"
   },
   "source": [
    "③ 고객 선호 색상 데이터가 아래와 같을 때, 범주별 빈도수와 비율을 구해 봅시다.\n",
    "* color = ['red','red', 'blue', 'green', 'green', 'red', 'blue', 'blue', 'red', 'green', 'red', 'blue']"
   ]
  },
  {
   "cell_type": "code",
   "execution_count": 40,
   "id": "e7d05323",
   "metadata": {},
   "outputs": [
    {
     "name": "stdout",
     "output_type": "stream",
     "text": [
      "[범주별 빈도수] ==================================================\n",
      "red      5\n",
      "blue     4\n",
      "green    3\n",
      "dtype: int64\n",
      "[범주별 비율] ==================================================\n",
      "red      0.416667\n",
      "blue     0.333333\n",
      "green    0.250000\n",
      "dtype: float64\n"
     ]
    }
   ],
   "source": [
    "import pandas as pd\n",
    "\n",
    "color = ['red','red', 'blue', 'green', 'green', 'red', 'blue', 'blue', 'red', 'green', 'red', 'blue']\n",
    "color = pd.Series(color)\n",
    "\n",
    "print('[범주별 빈도수]', '='*50)\n",
    "print(color.value_counts())\n",
    "\n",
    "print('[범주별 비율]', '='*50)\n",
    "print(color.value_counts() / len(color))"
   ]
  },
  {
   "cell_type": "markdown",
   "id": "4ec2acf5",
   "metadata": {
    "id": "4ec2acf5"
   },
   "source": [
    "## 2) 데이터 프레임으로부터 범주형 변수 기초통계량"
   ]
  },
  {
   "cell_type": "markdown",
   "id": "55c4da07",
   "metadata": {
    "id": "55c4da07"
   },
   "source": [
    "### ① Titanic\n",
    "\n",
    "* 데이터셋 : titanic3\n",
    "* 설명 : NaN 조치된 Titanic\n",
    "* url : https://bit.ly/3HaMAtZ"
   ]
  },
  {
   "cell_type": "markdown",
   "id": "02cb5c6a",
   "metadata": {
    "id": "02cb5c6a"
   },
   "source": [
    "(1) 데이터를 불러와 봅시다."
   ]
  },
  {
   "cell_type": "code",
   "execution_count": 13,
   "id": "baa98953",
   "metadata": {},
   "outputs": [
    {
     "name": "stdout",
     "output_type": "stream",
     "text": [
      "   Survived  Pclass     Sex   Age  SibSp  Parch     Fare Embarked  AgeGroup  \\\n",
      "0         0       3    male  22.0      1      0   7.2500        S  Age21_30   \n",
      "1         1       1  female  38.0      1      0  71.2833        C  Age31_40   \n",
      "2         1       3  female  26.0      0      0   7.9250        S  Age21_30   \n",
      "3         1       1  female  35.0      1      0  53.1000        S  Age31_40   \n",
      "4         0       3    male  35.0      0      0   8.0500        S  Age31_40   \n",
      "\n",
      "   Family  Age_scale1  \n",
      "0       2    0.271174  \n",
      "1       2    0.472229  \n",
      "2       1    0.321438  \n",
      "3       2    0.434531  \n",
      "4       1    0.434531  \n"
     ]
    }
   ],
   "source": [
    "import pandas as pd\n",
    "path = 'https://bit.ly/3HaMAtZ'\n",
    "titanic3 = pd.read_csv(path)\n",
    "print(titanic3.head())"
   ]
  },
  {
   "cell_type": "markdown",
   "id": "a4116c3a",
   "metadata": {
    "id": "a4116c3a"
   },
   "source": [
    "(2) 티켓 클래스(Pclass)의 범주별 빈도수와 범주별 비율을 구하시오."
   ]
  },
  {
   "cell_type": "code",
   "execution_count": 98,
   "id": "873db6a2",
   "metadata": {},
   "outputs": [
    {
     "name": "stdout",
     "output_type": "stream",
     "text": [
      "[범주별 빈도수] ==================================================\n",
      "3    491\n",
      "1    216\n",
      "2    184\n",
      "Name: Pclass, dtype: int64\n",
      "\n",
      "[범주별 비율] ==================================================\n",
      "3    0.551066\n",
      "1    0.242424\n",
      "2    0.206510\n",
      "Name: Pclass, dtype: float64\n"
     ]
    }
   ],
   "source": [
    "pclass = titanic3['Pclass']\n",
    "\n",
    "print('[범주별 빈도수]', '='*50)\n",
    "print(pclass.value_counts())\n",
    "\n",
    "print()\n",
    "\n",
    "print('[범주별 비율]', '='*50)\n",
    "print(pclass.value_counts() / len(pclass))"
   ]
  },
  {
   "cell_type": "markdown",
   "id": "CmskYZoeR_qi",
   "metadata": {
    "id": "CmskYZoeR_qi"
   },
   "source": [
    "### ② Diamond\n",
    "\n",
    "* 데이터셋 : diamond\n",
    "* 설명 : 다이아몬드 가격\n",
    "* url : https://bit.ly/3eHdRrH"
   ]
  },
  {
   "cell_type": "markdown",
   "id": "jXgQLmo7R_qk",
   "metadata": {
    "id": "jXgQLmo7R_qk"
   },
   "source": [
    "(1) 데이터를 불러와 봅시다."
   ]
  },
  {
   "cell_type": "code",
   "execution_count": 18,
   "id": "8a3ca895",
   "metadata": {},
   "outputs": [
    {
     "name": "stdout",
     "output_type": "stream",
     "text": [
      "   carat      cut color clarity  depth  table  price     x     y     z\n",
      "0   0.23    Ideal     E     SI2   61.5   55.0    326  3.95  3.98  2.43\n",
      "1   0.21  Premium     E     SI1   59.8   61.0    326  3.89  3.84  2.31\n",
      "2   0.23     Good     E     VS1   56.9   65.0    327  4.05  4.07  2.31\n",
      "3   0.29  Premium     I     VS2   62.4   58.0    334  4.20  4.23  2.63\n",
      "4   0.31     Good     J     SI2   63.3   58.0    335  4.34  4.35  2.75\n"
     ]
    }
   ],
   "source": [
    "path = 'https://bit.ly/3eHdRrH'\n",
    "diamond = pd.read_csv(path)\n",
    "print(diamond.head())"
   ]
  },
  {
   "cell_type": "markdown",
   "id": "mnBhCY3OR_qm",
   "metadata": {
    "id": "mnBhCY3OR_qm"
   },
   "source": [
    "(2) color의 범주별 빈도수와 범주별 비율을 구하시오."
   ]
  },
  {
   "cell_type": "code",
   "execution_count": 20,
   "id": "56843acc",
   "metadata": {},
   "outputs": [
    {
     "name": "stdout",
     "output_type": "stream",
     "text": [
      "[범주별 빈도수] ==================================================\n",
      "G    11292\n",
      "E     9797\n",
      "F     9542\n",
      "H     8304\n",
      "D     6775\n",
      "I     5422\n",
      "J     2808\n",
      "Name: color, dtype: int64\n",
      "[범주별 비율] ==================================================\n",
      "G    0.209344\n",
      "E    0.181628\n",
      "F    0.176900\n",
      "H    0.153949\n",
      "D    0.125603\n",
      "I    0.100519\n",
      "J    0.052058\n",
      "Name: color, dtype: float64\n"
     ]
    }
   ],
   "source": [
    "color = diamond['color']\n",
    "\n",
    "print('[범주별 빈도수]', '='*50)\n",
    "print(color.value_counts())\n",
    "\n",
    "print('[범주별 비율]', '='*50)\n",
    "print(color.value_counts() / len(color))"
   ]
  },
  {
   "cell_type": "markdown",
   "id": "6063f49d",
   "metadata": {
    "id": "6063f49d"
   },
   "source": [
    "(3) 가공품질(cut)의 범주별 빈도수와 범주별 비율을 구하시오."
   ]
  },
  {
   "cell_type": "code",
   "execution_count": 21,
   "id": "51cdf3dc",
   "metadata": {},
   "outputs": [
    {
     "name": "stdout",
     "output_type": "stream",
     "text": [
      "[범주별 빈도수] ==================================================\n",
      "Ideal        21551\n",
      "Premium      13791\n",
      "Very Good    12082\n",
      "Good          4906\n",
      "Fair          1610\n",
      "Name: cut, dtype: int64\n",
      "[범주별 비율] ==================================================\n",
      "Ideal        0.399537\n",
      "Premium      0.255673\n",
      "Very Good    0.223990\n",
      "Good         0.090953\n",
      "Fair         0.029848\n",
      "Name: cut, dtype: float64\n"
     ]
    }
   ],
   "source": [
    "cut = diamond['cut']\n",
    "\n",
    "print('[범주별 빈도수]', '='*50)\n",
    "print(cut.value_counts())\n",
    "\n",
    "print('[범주별 비율]', '='*50)\n",
    "print(cut.value_counts() / len(cut))"
   ]
  },
  {
   "cell_type": "markdown",
   "id": "40e930da",
   "metadata": {
    "id": "40e930da"
   },
   "source": [
    "## 3) 범주형 변수의 시각화 - bar chart(범주이름, 값)  \n",
    "bar chart를 그리기 위해서 → **범주이름**, **값 정보**가 필요하다.\n",
    "\n",
    "    - 범주이름 : 집계결과의 index   \n",
    "    - 값 정보 : 집계결과의 values "
   ]
  },
  {
   "cell_type": "markdown",
   "id": "65aa998a",
   "metadata": {
    "id": "65aa998a"
   },
   "source": [
    "① 다음의 조건에 맞게 bar chart를 그려 봅시다.\n",
    "* 범주 이름: gender = ['F', 'M']\n",
    "* 값: cnt = [6, 5]"
   ]
  },
  {
   "cell_type": "code",
   "execution_count": 100,
   "id": "66dfa2fe",
   "metadata": {},
   "outputs": [
    {
     "data": {
      "image/png": "[encoded data removed]",
      "text/plain": [
       "<Figure size 432x288 with 1 Axes>"
      ]
     },
     "metadata": {
      "needs_background": "light"
     },
     "output_type": "display_data"
    }
   ],
   "source": [
    "gender = ['F', 'M']\n",
    "cnt = [6, 5]\n",
    "\n",
    "plt.bar(gender, cnt)\n",
    "plt.show()"
   ]
  },
  {
   "cell_type": "markdown",
   "id": "4b4a6f02",
   "metadata": {
    "id": "4b4a6f02"
   },
   "source": [
    "② 다음의 조건에 맞게 bar chart를 그려 봅시다.\n",
    "* 범주 이름: gender = ['F', 'M']\n",
    "* 값: cnt = [6, 5]\n",
    "* 수평 막대 그래프"
   ]
  },
  {
   "cell_type": "code",
   "execution_count": 101,
   "id": "60f2e1c4",
   "metadata": {},
   "outputs": [
    {
     "data": {
      "image/png": "[encoded data removed]",
      "text/plain": [
       "<Figure size 432x288 with 1 Axes>"
      ]
     },
     "metadata": {
      "needs_background": "light"
     },
     "output_type": "display_data"
    }
   ],
   "source": [
    "gender = ['F', 'M']\n",
    "cnt = [6, 5]\n",
    "\n",
    "plt.barh(gender, cnt)\n",
    "plt.show()"
   ]
  },
  {
   "cell_type": "markdown",
   "id": "db790756",
   "metadata": {
    "id": "db790756"
   },
   "source": [
    "③ 성별 데이터가 아래와 같을 때, value_counts()를 사용하여 빈도수를 집계하고 주어진 결과에 맞게 bar chart를 그리시오.\n",
    "* gender = ['F','M','F','F','F','M','F','M','M']"
   ]
  },
  {
   "cell_type": "code",
   "execution_count": 37,
   "id": "d2577015",
   "metadata": {},
   "outputs": [
    {
     "name": "stdout",
     "output_type": "stream",
     "text": [
      "F    5\n",
      "M    4\n",
      "dtype: int64\n",
      "Index(['F', 'M'], dtype='object')\n",
      "[5 4]\n"
     ]
    },
    {
     "data": {
      "image/png": "[encoded data removed]",
      "text/plain": [
       "<Figure size 432x288 with 1 Axes>"
      ]
     },
     "metadata": {
      "needs_background": "light"
     },
     "output_type": "display_data"
    }
   ],
   "source": [
    "gender = ['F','M','F','F','F','M','F','M','M']\n",
    "gender = pd.Series(gender)\n",
    "\n",
    "# 집계\n",
    "cnt = gender.value_counts()\n",
    "print(cnt)\n",
    "\n",
    "# 범주이름 : 집계.index\n",
    "print(cnt.index)\n",
    "\n",
    "# 값 : 집계.values\n",
    "print(cnt.values)\n",
    "\n",
    "plt.barh(cnt.index, cnt.values)\n",
    "plt.show()"
   ]
  },
  {
   "cell_type": "markdown",
   "id": "357a3ccf",
   "metadata": {
    "id": "357a3ccf"
   },
   "source": [
    "④ ①에서 만든 그래프를 주어진 결과에 맞게 수정해 봅시다.\n",
    "* width: 0.3"
   ]
  },
  {
   "cell_type": "code",
   "execution_count": 104,
   "id": "ad31d5aa",
   "metadata": {},
   "outputs": [
    {
     "data": {
      "image/png": "[encoded data removed]",
      "text/plain": [
       "<Figure size 432x288 with 1 Axes>"
      ]
     },
     "metadata": {
      "needs_background": "light"
     },
     "output_type": "display_data"
    }
   ],
   "source": [
    "gender = ['F','M']\n",
    "cnt = [6, 5]\n",
    "\n",
    "plt.bar(gender, cnt, color = ['g', 'r'], width = 0.3)\n",
    "plt.show()"
   ]
  },
  {
   "cell_type": "markdown",
   "id": "e126e0d9",
   "metadata": {
    "id": "e126e0d9"
   },
   "source": [
    "## 4) 범주형 변수의 시각화 - pie chart(값, labels=범주이름, autopct = '%.2f%%')"
   ]
  },
  {
   "cell_type": "markdown",
   "id": "5bdd5798",
   "metadata": {
    "id": "5bdd5798"
   },
   "source": [
    "① 성별 데이터가 아래와 같을 때, value_counts()를 사용하여 빈도수를 집계하고 주어진 결과에 맞게 pie chart를 그리시오.\n",
    "* gender = ['F','M','F','F','F','M','F','M','M']"
   ]
  },
  {
   "cell_type": "code",
   "execution_count": 123,
   "id": "6bf4333b",
   "metadata": {},
   "outputs": [],
   "source": [
    "plt.pie?"
   ]
  },
  {
   "cell_type": "code",
   "execution_count": 109,
   "id": "2681ffed",
   "metadata": {},
   "outputs": [
    {
     "name": "stdout",
     "output_type": "stream",
     "text": [
      "[5 4]\n"
     ]
    },
    {
     "data": {
      "image/png": "[encoded data removed]",
      "text/plain": [
       "<Figure size 432x288 with 1 Axes>"
      ]
     },
     "metadata": {},
     "output_type": "display_data"
    }
   ],
   "source": [
    "gender = ['F','M','F','F','F','M','F','M','M']\n",
    "gender = pd.Series(gender)\n",
    "\n",
    "# 집계\n",
    "cnt = gender.value_counts()\n",
    "\n",
    "print(cnt.values)\n",
    "\n",
    "plt.pie(x=cnt.values, labels = cnt.index, autopct = '%.2f%%')\n",
    "plt.show()"
   ]
  },
  {
   "cell_type": "markdown",
   "id": "0c46cfb5",
   "metadata": {
    "id": "0c46cfb5"
   },
   "source": [
    "② ①에서 만들었던 그래프를 주어진 결과에 맞게 수정해 봅시다.\n",
    "* 90도부터 시작\n",
    "* 시계 방향으로\n",
    "* 중심으로부터 F, M을 각각 0.05만큼 띄움\n",
    "* 그림자 추가"
   ]
  },
  {
   "cell_type": "code",
   "execution_count": 130,
   "id": "d9d94503",
   "metadata": {},
   "outputs": [
    {
     "data": {
      "image/png": "[encoded data removed]",
      "text/plain": [
       "<Figure size 432x288 with 1 Axes>"
      ]
     },
     "metadata": {},
     "output_type": "display_data"
    }
   ],
   "source": [
    "gender = ['F','M','F','F','F','M','F','M','M']\n",
    "gender = pd.Series(gender)\n",
    "\n",
    "cnt = gender.value_counts()\n",
    "\n",
    "plt.pie(x=cnt.values, labels=cnt.index, autopct = '%.2f%%',\n",
    "       startangle = 90, counterclock = False, explode = [0.05, 0.05] ,shadow = True)\n",
    "plt.show()"
   ]
  },
  {
   "cell_type": "markdown",
   "id": "87b880af",
   "metadata": {
    "id": "87b880af"
   },
   "source": [
    "## 5) 데이터 프레임으로부터 범주형 변수의 시각화"
   ]
  },
  {
   "cell_type": "markdown",
   "id": "JhHZqwDPSzQC",
   "metadata": {
    "id": "JhHZqwDPSzQC"
   },
   "source": [
    "### ① Titanic\n",
    "\n",
    "* 데이터셋 : titanic3\n",
    "* 설명 : NaN 조치된 Titanic\n",
    "* url : https://bit.ly/3HaMAtZ"
   ]
  },
  {
   "cell_type": "markdown",
   "id": "c60cf35b",
   "metadata": {
    "id": "c60cf35b"
   },
   "source": [
    "(1) 티켓 클래스(Pclass)의 범주별 빈도수를 구하고 bar chart와 pie chart를 주어진 결과에 맞게 그리시오."
   ]
  },
  {
   "cell_type": "code",
   "execution_count": 43,
   "id": "f0a2db69",
   "metadata": {},
   "outputs": [
    {
     "name": "stdout",
     "output_type": "stream",
     "text": [
      "   Survived  Pclass     Sex   Age  SibSp  Parch     Fare Embarked  AgeGroup  \\\n",
      "0         0       3    male  22.0      1      0   7.2500        S  Age21_30   \n",
      "1         1       1  female  38.0      1      0  71.2833        C  Age31_40   \n",
      "2         1       3  female  26.0      0      0   7.9250        S  Age21_30   \n",
      "3         1       1  female  35.0      1      0  53.1000        S  Age31_40   \n",
      "4         0       3    male  35.0      0      0   8.0500        S  Age31_40   \n",
      "\n",
      "   Family  Age_scale1  \n",
      "0       2    0.271174  \n",
      "1       2    0.472229  \n",
      "2       1    0.321438  \n",
      "3       2    0.434531  \n",
      "4       1    0.434531  \n"
     ]
    }
   ],
   "source": [
    "path = 'https://bit.ly/3HaMAtZ'\n",
    "titanic = pd.read_csv(path)\n",
    "print(titanic.head())"
   ]
  },
  {
   "cell_type": "code",
   "execution_count": 132,
   "id": "abb7d741",
   "metadata": {},
   "outputs": [
    {
     "name": "stdout",
     "output_type": "stream",
     "text": [
      "3    491\n",
      "1    216\n",
      "2    184\n",
      "Name: Pclass, dtype: int64\n"
     ]
    },
    {
     "data": {
      "image/png": "[encoded data removed]",
      "text/plain": [
       "<Figure size 432x288 with 1 Axes>"
      ]
     },
     "metadata": {
      "needs_background": "light"
     },
     "output_type": "display_data"
    }
   ],
   "source": [
    "# 집계 하기\n",
    "cnt = titanic['Pclass'].value_counts()\n",
    "print(cnt)\n",
    "\n",
    "# bar\n",
    "plt.subplot(1, 2, 1)\n",
    "plt.bar(cnt.index, cnt.values)\n",
    "plt.text(x=cnt.index[0]-.1, y=cnt.values[0] + 10, s=cnt.values[0])\n",
    "plt.text(cnt.index[1]-.1, cnt.values[1] + 10, cnt.values[1])\n",
    "plt.text(cnt.index[2]-.1, cnt.values[2] + 10, cnt.values[2])\n",
    "\n",
    "plt.show()"
   ]
  },
  {
   "cell_type": "code",
   "execution_count": 59,
   "id": "af228a23",
   "metadata": {},
   "outputs": [
    {
     "data": {
      "image/png": "[encoded data removed]",
      "text/plain": [
       "<Figure size 432x288 with 1 Axes>"
      ]
     },
     "metadata": {
      "needs_background": "light"
     },
     "output_type": "display_data"
    }
   ],
   "source": [
    "# 성별로\n",
    "\n",
    "# 집계 하기\n",
    "cnt = titanic['Sex'].value_counts()\n",
    "\n",
    "# bar\n",
    "plt.subplot(1, 2, 1)\n",
    "plt.bar(cnt.index, cnt.values)\n",
    "plt.text(0, cnt.values[0] + 10, cnt.values[0])\n",
    "plt.text(1, cnt.values[1] + 10, cnt.values[1])\n",
    "\n",
    "plt.show()"
   ]
  },
  {
   "cell_type": "code",
   "execution_count": 61,
   "id": "aa2c2fff",
   "metadata": {},
   "outputs": [
    {
     "data": {
      "image/png": "[encoded data removed]",
      "text/plain": [
       "<Figure size 432x288 with 2 Axes>"
      ]
     },
     "metadata": {
      "needs_background": "light"
     },
     "output_type": "display_data"
    }
   ],
   "source": [
    "# 집계 하기\n",
    "cnt = titanic['Pclass'].value_counts()\n",
    "\n",
    "# bar\n",
    "plt.subplot(1, 2, 1)\n",
    "plt.bar(cnt.index, cnt.values)\n",
    "plt.text(cnt.index[0]-.1, cnt.values[0] + 10, cnt.values[0])\n",
    "plt.text(cnt.index[1]-.1, cnt.values[1] + 10, cnt.values[1])\n",
    "plt.text(cnt.index[2]-.1, cnt.values[2] + 10, cnt.values[2])\n",
    "\n",
    "# pie\n",
    "plt.subplot(1, 2, 2)\n",
    "plt.pie(cnt.values, labels = cnt.index, autopct = '%.2f%%')\n",
    "\n",
    "plt.show()"
   ]
  },
  {
   "cell_type": "markdown",
   "id": "XqnYRQ8dE-fP",
   "metadata": {
    "id": "XqnYRQ8dE-fP"
   },
   "source": [
    "(2) 분포로 부터 알수 있는 것은?"
   ]
  },
  {
   "cell_type": "markdown",
   "id": "9tM9J4GtFBwG",
   "metadata": {
    "id": "9tM9J4GtFBwG"
   },
   "source": [
    "3등급 객실이 왜 많이 탔지?  \n",
    "3등급 객실 수가 가장 많은거 아닌가?"
   ]
  },
  {
   "cell_type": "markdown",
   "id": "p6OyNInLTDYk",
   "metadata": {
    "id": "p6OyNInLTDYk"
   },
   "source": [
    "### ② Diamond\n",
    "\n",
    "* 데이터셋 : diamond\n",
    "* 설명 : 다이아몬드 가격\n",
    "* url : https://bit.ly/3eHdRrH"
   ]
  },
  {
   "cell_type": "markdown",
   "id": "PbRzMOPwS6gE",
   "metadata": {
    "id": "PbRzMOPwS6gE"
   },
   "source": [
    "(1) 가공품질(cut)의 범주별 빈도수를 구하고 bar chart와 pie chart를 주어진 결과에 맞게 그리시오."
   ]
  },
  {
   "cell_type": "code",
   "execution_count": 63,
   "id": "e182f568",
   "metadata": {},
   "outputs": [
    {
     "name": "stdout",
     "output_type": "stream",
     "text": [
      "   carat      cut color clarity  depth  table  price     x     y     z\n",
      "0   0.23    Ideal     E     SI2   61.5   55.0    326  3.95  3.98  2.43\n",
      "1   0.21  Premium     E     SI1   59.8   61.0    326  3.89  3.84  2.31\n",
      "2   0.23     Good     E     VS1   56.9   65.0    327  4.05  4.07  2.31\n",
      "3   0.29  Premium     I     VS2   62.4   58.0    334  4.20  4.23  2.63\n",
      "4   0.31     Good     J     SI2   63.3   58.0    335  4.34  4.35  2.75\n"
     ]
    }
   ],
   "source": [
    "diamond = pd.read_csv('https://bit.ly/3eHdRrH')\n",
    "print(diamond.head())"
   ]
  },
  {
   "cell_type": "code",
   "execution_count": 136,
   "id": "8d304c9d",
   "metadata": {},
   "outputs": [
    {
     "name": "stdout",
     "output_type": "stream",
     "text": [
      "Ideal        21551\n",
      "Premium      13791\n",
      "Very Good    12082\n",
      "Good          4906\n",
      "Fair          1610\n",
      "Name: cut, dtype: int64\n"
     ]
    },
    {
     "data": {
      "image/png": "[encoded data removed]",
      "text/plain": [
       "<Figure size 432x288 with 2 Axes>"
      ]
     },
     "metadata": {
      "needs_background": "light"
     },
     "output_type": "display_data"
    }
   ],
   "source": [
    "# 집계 하기\n",
    "cnt = diamond['cut'].value_counts()\n",
    "print(cnt)\n",
    "\n",
    "# bar\n",
    "plt.subplot(1, 2, 1)\n",
    "plt.bar(cnt.index, cnt.values)\n",
    "plt.text(0, cnt.values[0] + 10, cnt.values[0])\n",
    "plt.text(1, cnt.values[1] + 10, cnt.values[1])\n",
    "plt.text(2, cnt.values[2] + 10, cnt.values[2])\n",
    "plt.text(3, cnt.values[3] + 10, cnt.values[3])\n",
    "plt.text(4, cnt.values[4] + 10, cnt.values[4])\n",
    "\n",
    "plt.xticks(rotation = 80)\n",
    "\n",
    "\n",
    "# pie\n",
    "plt.subplot(1, 2, 2)\n",
    "plt.pie(cnt.values, labels = cnt.index, autopct = '%.2f%%')\n",
    "\n",
    "plt.show()"
   ]
  }
 ],
 "metadata": {
  "colab": {
   "collapsed_sections": [],
   "name": "05과 [실습] 개별 변수 분석하기 범주형 변수.ipynb",
   "provenance": [],
   "toc_visible": true
  },
  "kernelspec": {
   "display_name": "Python 3",
   "language": "python",
   "name": "python3"
  },
  "language_info": {
   "codemirror_mode": {
    "name": "ipython",
    "version": 3
   },
   "file_extension": ".py",
   "mimetype": "text/x-python",
   "name": "python",
   "nbconvert_exporter": "python",
   "pygments_lexer": "ipython3",
   "version": "3.8.8"
  }
 },
 "nbformat": 4,
 "nbformat_minor": 5
}
